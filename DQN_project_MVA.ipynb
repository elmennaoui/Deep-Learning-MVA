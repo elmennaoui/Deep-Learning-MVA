{
  "nbformat": 4,
  "nbformat_minor": 0,
  "metadata": {
    "kernelspec": {
      "display_name": "Python 3",
      "language": "python",
      "name": "python3"
    },
    "language_info": {
      "codemirror_mode": {
        "name": "ipython",
        "version": 3
      },
      "file_extension": ".py",
      "mimetype": "text/x-python",
      "name": "python",
      "nbconvert_exporter": "python",
      "pygments_lexer": "ipython3",
      "version": "3.5.7"
    },
    "colab": {
      "name": "DQN_project_MVA",
      "provenance": [],
      "collapsed_sections": []
    }
  },
  "cells": [
    {
      "cell_type": "markdown",
      "metadata": {
        "id": "oB2FgjXZdLA5",
        "colab_type": "text"
      },
      "source": [
        "**You may need to install [OpenCV](https://pypi.python.org/pypi/opencv-python) and [scikit-video](http://www.scikit-video.org/stable/).**"
      ]
    },
    {
      "cell_type": "code",
      "metadata": {
        "id": "DK7a9CA9dQov",
        "colab_type": "code",
        "outputId": "2e693039-715e-4115-b583-d7832044a684",
        "colab": {
          "base_uri": "https://localhost:8080/",
          "height": 136
        }
      },
      "source": [
        "!pip install sk-video"
      ],
      "execution_count": 1,
      "outputs": [
        {
          "output_type": "stream",
          "text": [
            "Collecting sk-video\n",
            "\u001b[?25l  Downloading https://files.pythonhosted.org/packages/dd/3f/ce848b8b2062ad1ccf1449094a740c775f6c761339f411e44f1e090f23a7/sk_video-1.1.10-py2.py3-none-any.whl (2.3MB)\n",
            "\u001b[K     |████████████████████████████████| 2.3MB 2.7MB/s \n",
            "\u001b[?25hRequirement already satisfied: numpy in /usr/local/lib/python3.6/dist-packages (from sk-video) (1.17.5)\n",
            "Requirement already satisfied: scipy in /usr/local/lib/python3.6/dist-packages (from sk-video) (1.4.1)\n",
            "Installing collected packages: sk-video\n",
            "Successfully installed sk-video-1.1.10\n"
          ],
          "name": "stdout"
        }
      ]
    },
    {
      "cell_type": "code",
      "metadata": {
        "id": "RGFv09irdLA9",
        "colab_type": "code",
        "colab": {
          "base_uri": "https://localhost:8080/",
          "height": 80
        },
        "outputId": "3a2e5219-68fc-45cd-8a57-38bc19c23e31"
      },
      "source": [
        "import keras\n",
        "import numpy as np\n",
        "import io\n",
        "import base64\n",
        "from IPython.display import HTML\n",
        "import skvideo.io\n",
        "import cv2\n",
        "import json\n",
        "\n",
        "from keras.models import Sequential,model_from_json\n",
        "from keras.layers.core import Dense, Flatten\n",
        "from keras.optimizers import sgd\n",
        "from keras.layers import Conv2D, MaxPooling2D, Activation, AveragePooling2D,Reshape,BatchNormalization"
      ],
      "execution_count": 2,
      "outputs": [
        {
          "output_type": "stream",
          "text": [
            "Using TensorFlow backend.\n"
          ],
          "name": "stderr"
        },
        {
          "output_type": "display_data",
          "data": {
            "text/html": [
              "<p style=\"color: red;\">\n",
              "The default version of TensorFlow in Colab will soon switch to TensorFlow 2.x.<br>\n",
              "We recommend you <a href=\"https://www.tensorflow.org/guide/migrate\" target=\"_blank\">upgrade</a> now \n",
              "or ensure your notebook will continue to use TensorFlow 1.x via the <code>%tensorflow_version 1.x</code> magic:\n",
              "<a href=\"https://colab.research.google.com/notebooks/tensorflow_version.ipynb\" target=\"_blank\">more info</a>.</p>\n"
            ],
            "text/plain": [
              "<IPython.core.display.HTML object>"
            ]
          },
          "metadata": {
            "tags": []
          }
        }
      ]
    },
    {
      "cell_type": "markdown",
      "metadata": {
        "id": "uO4c3bKIdLBA",
        "colab_type": "text"
      },
      "source": [
        "# MiniProject on Deep Reinforcement Learning"
      ]
    },
    {
      "cell_type": "markdown",
      "metadata": {
        "id": "k8ZjX0K7dLBB",
        "colab_type": "text"
      },
      "source": [
        "__Notations__: $E_p$ is the expectation under probability $p$. Please justify each of your answer and widely comment your code."
      ]
    },
    {
      "cell_type": "markdown",
      "metadata": {
        "id": "X--DYRZsdLBB",
        "colab_type": "text"
      },
      "source": [
        "# Context"
      ]
    },
    {
      "cell_type": "markdown",
      "metadata": {
        "id": "kjSorvxAdLBC",
        "colab_type": "text"
      },
      "source": [
        "In a reinforcement learning algorithm, we modelize each step $t$ as an action $a_t$ obtained from a state $s_t$, i.e. $\\{(a_{t},s_{t})_{t\\leq T}\\}$ having the Markov property. We consider a discount factor $\\gamma \\in [0,1]$ that ensures convergence. The goal is to find among all the policies $\\pi$, one that maximizes the expected reward:\n",
        "\n",
        "\\begin{equation*}\n",
        "R(\\pi)=\\sum_{t\\leq T}E_{p^{\\pi}}[\\gamma^t r(s_{t},a_{t})] \\> ,\n",
        "\\end{equation*}\n",
        "\n",
        "where: \n",
        "\\begin{equation*}p^{\\pi}(a_{0},a_{1},s_{1},...,a_{T},s_{T})=p(a_{0})\\prod_{t=1}^{T}\\pi(a_{t}|s_{t})p(s_{t+1}|s_{t},a_{t}) \\> .\n",
        "\\end{equation*}\n",
        "\n",
        "We note the $Q$-function:\n",
        "\n",
        "\\begin{equation*}Q^\\pi(s,a)=E_{p^{\\pi}}[\\sum_{t\\leq T}\\gamma^{t}r(s_{t},a_{t})|s_{0}=s,a_{0}=a] \\> .\n",
        "\\end{equation*}\n",
        "\n",
        "Thus, the optimal Q function is:\n",
        "\\begin{equation*}\n",
        "Q^*(s,a)=\\max_{\\pi}Q^\\pi(s,a) \\> .\n",
        "\\end{equation*}\n",
        "\n",
        "In this project, we will apply the deep reinforcement learning techniques to a simple game: an agent will have to learn from scratch a policy that will permit it maximizing a reward."
      ]
    },
    {
      "cell_type": "markdown",
      "metadata": {
        "id": "GxbDQKMTdLBD",
        "colab_type": "text"
      },
      "source": [
        "## The environment, the agent and the game"
      ]
    },
    {
      "cell_type": "markdown",
      "metadata": {
        "id": "4BsGtyHodLBD",
        "colab_type": "text"
      },
      "source": [
        "### The environment"
      ]
    },
    {
      "cell_type": "markdown",
      "metadata": {
        "id": "BtY4vUiEdLBE",
        "colab_type": "text"
      },
      "source": [
        "```Environment``` is an abstract class that represents the states, rewards, and actions to obtain the new state."
      ]
    },
    {
      "cell_type": "code",
      "metadata": {
        "id": "Mr65iuXqdLBE",
        "colab_type": "code",
        "colab": {}
      },
      "source": [
        "class Environment(object):\n",
        "    def __init__(self):\n",
        "        pass\n",
        "\n",
        "    def act(self, act):\n",
        "        \"\"\"\n",
        "        One can act on the environment and obtain its reaction:\n",
        "        - the new state\n",
        "        - the reward of the new state\n",
        "        - should we continue the game?\n",
        "\n",
        "        :return: state, reward, game_over\n",
        "        \"\"\"\n",
        "        pass\n",
        "\n",
        "\n",
        "    def reset(self):\n",
        "        \"\"\"\n",
        "        Reinitialize the environment to a random state and returns\n",
        "        the original state\n",
        "\n",
        "        :return: state\n",
        "        \"\"\"\n",
        "        pass\n",
        "    \n",
        "    def draw(self):\n",
        "        \"\"\"\n",
        "        Visualize in the console or graphically the current state\n",
        "        \"\"\"\n",
        "        pass"
      ],
      "execution_count": 0,
      "outputs": []
    },
    {
      "cell_type": "markdown",
      "metadata": {
        "id": "Nv-hmnfZdLBG",
        "colab_type": "text"
      },
      "source": [
        "The method ```act``` allows to act on the environment at a given state $s_t$ (stored internally), via action $a_t$. The method will return the new state $s_{t+1}$, the reward $r(s_{t},a_{t})$ and determines if $t\\leq T$ (*game_over*).\n",
        "\n",
        "The method ```reset``` simply reinitializes the environment to a random state $s_0$.\n",
        "\n",
        "The method ```draw``` displays the current state $s_t$ (this is useful to check the behavior of the Agent).\n",
        "\n",
        "We modelize $s_t$ as a tensor, while $a_t$ is an integer."
      ]
    },
    {
      "cell_type": "markdown",
      "metadata": {
        "id": "NuMlHF2zdLBH",
        "colab_type": "text"
      },
      "source": [
        "### The Agent"
      ]
    },
    {
      "cell_type": "markdown",
      "metadata": {
        "id": "km7hD9uUdLBH",
        "colab_type": "text"
      },
      "source": [
        "The goal of the ```Agent``` is to interact with the ```Environment``` by proposing actions $a_t$ obtained from a given state $s_t$ to attempt to maximize its __reward__ $r(s_t,a_t)$. We propose the following abstract class:"
      ]
    },
    {
      "cell_type": "code",
      "metadata": {
        "id": "xxw70LiTdLBI",
        "colab_type": "code",
        "colab": {}
      },
      "source": [
        "class Agent(object):\n",
        "    def __init__(self, epsilon=0.1, n_action=4):\n",
        "        self.epsilon = epsilon\n",
        "        self.n_action = n_action\n",
        "    \n",
        "    def set_epsilon(self,e):\n",
        "        self.epsilon = e\n",
        "\n",
        "    def act(self,s,train=True):\n",
        "        \"\"\" This function should return the next action to do:\n",
        "        an integer between 0 and 4 (not included) with a random exploration of epsilon\"\"\"\n",
        "        if train:\n",
        "            if np.random.rand() <= self.epsilon:\n",
        "                a = np.random.randint(0, self.n_action, size=1)[0]\n",
        "            else:\n",
        "                a = self.learned_act(s)\n",
        "        else: # in some cases, this can improve the performance.. remove it if poor performances\n",
        "            a = self.learned_act(s)\n",
        "\n",
        "        return a\n",
        "\n",
        "    def learned_act(self,s):\n",
        "        \"\"\" Act via the policy of the agent, from a given state s\n",
        "        it proposes an action a\"\"\"\n",
        "        pass\n",
        "\n",
        "    def reinforce(self, s, n_s, a, r, game_over_):\n",
        "        \"\"\" This function is the core of the learning algorithm. \n",
        "        It takes as an input the current state s_, the next state n_s_\n",
        "        the action a_ used to move from s_ to n_s_ and the reward r_.\n",
        "        \n",
        "        Its goal is to learn a policy.\n",
        "        \"\"\"\n",
        "        pass\n",
        "\n",
        "    def save(self):\n",
        "        \"\"\" This function returns basic stats if applicable: the\n",
        "        loss and/or the model\"\"\"\n",
        "        pass\n",
        "\n",
        "    def load(self):\n",
        "        \"\"\" This function allows to restore a model\"\"\"\n",
        "        pass"
      ],
      "execution_count": 0,
      "outputs": []
    },
    {
      "cell_type": "markdown",
      "metadata": {
        "id": "Zae4Z5GMdLBK",
        "colab_type": "text"
      },
      "source": [
        "***\n",
        "__Question 1__:\n",
        "Explain the function act. Why is ```epsilon``` essential?"
      ]
    },
    {
      "cell_type": "markdown",
      "metadata": {
        "id": "Gic3Gj8UdLBL",
        "colab_type": "text"
      },
      "source": [
        "**Answer:**  \n",
        "In the Agent class defined above, the function act, takes a certain action given its current state. The way it is coded, translates the $\\epsilon$-greedy exploration when we take a random action with probability $\\epsilon$ and take the action that maximizes the Q-function otherwise.  \n",
        "\n",
        "$\\epsilon$ controls how greedy is our exploration of the state space. It determines the tradeoff between exploration and exploitation. When $\\epsilon$ is too large, we explore too much but do not exploit what we have already learned. When $\\epsilon$ is too small, we do not do enough exploration to learn the best action.\n",
        "\n"
      ]
    },
    {
      "cell_type": "markdown",
      "metadata": {
        "id": "H3i7dk8UdLBM",
        "colab_type": "text"
      },
      "source": [
        "***\n",
        "### The Game"
      ]
    },
    {
      "cell_type": "markdown",
      "metadata": {
        "id": "O4EW3fVCdLBN",
        "colab_type": "text"
      },
      "source": [
        "The ```Agent``` and the ```Environment``` work in an interlaced way as in the following (take some time to understand this code as it is the core of the project)\n",
        "\n",
        "```python\n",
        "\n",
        "epoch = 300\n",
        "env = Environment()\n",
        "agent = Agent()\n",
        "\n",
        "\n",
        "# Number of won games\n",
        "score = 0\n",
        "loss = 0\n",
        "\n",
        "\n",
        "for e in range(epoch):\n",
        "    # At each epoch, we restart to a fresh game and get the initial state\n",
        "    state = env.reset()\n",
        "    # This assumes that the games will end\n",
        "    game_over = False\n",
        "\n",
        "    win = 0\n",
        "    lose = 0\n",
        "    \n",
        "    while not game_over:\n",
        "        # The agent performs an action\n",
        "        action = agent.act(state)\n",
        "\n",
        "        # Apply an action to the environment, get the next state, the reward\n",
        "        # and if the games end\n",
        "        prev_state = state\n",
        "        state, reward, game_over = env.act(action)\n",
        "\n",
        "        # Update the counters\n",
        "        if reward > 0:\n",
        "            win = win + reward\n",
        "        if reward < 0:\n",
        "            lose = lose -reward\n",
        "\n",
        "        # Apply the reinforcement strategy\n",
        "        loss = agent.reinforce(prev_state, state,  action, reward, game_over)\n",
        "\n",
        "    # Save as a mp4\n",
        "    if e % 10 == 0:\n",
        "        env.draw(e)\n",
        "\n",
        "    # Update stats\n",
        "    score += win-lose\n",
        "\n",
        "    print(\"Epoch {:03d}/{:03d} | Loss {:.4f} | Win/lose count {}/{} ({})\"\n",
        "          .format(e, epoch, loss, win, lose, win-lose))\n",
        "    agent.save()\n",
        "```"
      ]
    },
    {
      "cell_type": "markdown",
      "metadata": {
        "id": "J1TE1poWdLBO",
        "colab_type": "text"
      },
      "source": [
        "# The game, *eat cheese*"
      ]
    },
    {
      "cell_type": "markdown",
      "metadata": {
        "id": "MA-_Ofl_dLBP",
        "colab_type": "text"
      },
      "source": [
        "A rat runs on an island and tries to eat as much as possible. The island is subdivided into $N\\times N$ cells, in which there are cheese (+0.5) and poisonous cells (-1). The rat has a visibility of 2 cells (thus it can see $5^2$ cells). The rat is given a time $T$ to accumulate as much food as possible. It can perform 4 actions: going up, down, left, right. \n",
        "\n",
        "The goal is to code an agent to solve this task that will learn by trial and error. We propose the following environment:"
      ]
    },
    {
      "cell_type": "code",
      "metadata": {
        "id": "_wPO8D5UdLBQ",
        "colab_type": "code",
        "colab": {}
      },
      "source": [
        "class Environment(object):\n",
        "    def __init__(self, grid_size=10, max_time=500, temperature=0.1):\n",
        "        grid_size = grid_size+4\n",
        "        self.grid_size = grid_size\n",
        "        self.max_time = max_time\n",
        "        self.temperature = temperature\n",
        "\n",
        "        #board on which one plays\n",
        "        self.board = np.zeros((grid_size,grid_size))\n",
        "        self.position = np.zeros((grid_size,grid_size))\n",
        "\n",
        "        # coordinate of the cat\n",
        "        self.x = 0\n",
        "        self.y = 1\n",
        "\n",
        "        # self time\n",
        "        self.t = 0\n",
        "\n",
        "        self.scale=16\n",
        "\n",
        "        self.to_draw = np.zeros((max_time+2, grid_size*self.scale, grid_size*self.scale, 3))\n",
        "\n",
        "\n",
        "    def draw(self,e):\n",
        "        skvideo.io.vwrite(str(e) + '.mp4', self.to_draw)\n",
        "\n",
        "    def get_frame(self,t):\n",
        "        b = np.zeros((self.grid_size,self.grid_size,3))+128\n",
        "        b[self.board>0,0] = 256\n",
        "        b[self.board < 0, 2] = 256\n",
        "        b[self.x,self.y,:]=256\n",
        "        b[-2:,:,:]=0\n",
        "        b[:,-2:,:]=0\n",
        "        b[:2,:,:]=0\n",
        "        b[:,:2,:]=0\n",
        "        \n",
        "        b =  cv2.resize(b, None, fx=self.scale, fy=self.scale, interpolation=cv2.INTER_NEAREST)\n",
        "\n",
        "        self.to_draw[t,:,:,:]=b\n",
        "\n",
        "\n",
        "    def act(self, action):\n",
        "        \"\"\"This function returns the new state, reward and decides if the\n",
        "        game ends.\"\"\"\n",
        "\n",
        "        self.get_frame(int(self.t))\n",
        "\n",
        "        self.position = np.zeros((self.grid_size, self.grid_size))\n",
        "\n",
        "        self.position[0:2,:]= -1\n",
        "        self.position[:,0:2] = -1\n",
        "        self.position[-2:, :] = -1\n",
        "        self.position[-2:, :] = -1\n",
        "\n",
        "        self.position[self.x, self.y] = 1\n",
        "        if action == 0:\n",
        "            if self.x == self.grid_size-3:\n",
        "                self.x = self.x-1\n",
        "            else:\n",
        "                self.x = self.x + 1\n",
        "        elif action == 1:\n",
        "            if self.x == 2:\n",
        "                self.x = self.x+1\n",
        "            else:\n",
        "                self.x = self.x-1\n",
        "        elif action == 2:\n",
        "            if self.y == self.grid_size - 3:\n",
        "                self.y = self.y - 1\n",
        "            else:\n",
        "                self.y = self.y + 1\n",
        "        elif action == 3:\n",
        "            if self.y == 2:\n",
        "                self.y = self.y + 1\n",
        "            else:\n",
        "                self.y = self.y - 1\n",
        "        else:\n",
        "            RuntimeError('Error: action not recognized')\n",
        "\n",
        "        self.t = self.t + 1\n",
        "        reward = self.board[self.x, self.y]\n",
        "        self.board[self.x, self.y] = 0\n",
        "        game_over = self.t > self.max_time\n",
        "        state = np.concatenate((self.board.reshape(self.grid_size, self.grid_size,1),\n",
        "                        self.position.reshape(self.grid_size, self.grid_size,1)),axis=2)\n",
        "        state = state[self.x-2:self.x+3,self.y-2:self.y+3,:]\n",
        "\n",
        "        return state, reward, game_over\n",
        "\n",
        "    def reset(self):\n",
        "        \"\"\"This function resets the game and returns the initial state\"\"\"\n",
        "\n",
        "        self.x = np.random.randint(3, self.grid_size-3, size=1)[0]\n",
        "        self.y = np.random.randint(3, self.grid_size-3, size=1)[0]\n",
        "\n",
        "\n",
        "        bonus = 0.5*np.random.binomial(1,self.temperature,size=self.grid_size**2)\n",
        "        bonus = bonus.reshape(self.grid_size,self.grid_size)\n",
        "\n",
        "        malus = -1.0*np.random.binomial(1,self.temperature,size=self.grid_size**2)\n",
        "        malus = malus.reshape(self.grid_size, self.grid_size)\n",
        "\n",
        "        self.to_draw = np.zeros((self.max_time+2, self.grid_size*self.scale, self.grid_size*self.scale, 3))\n",
        "\n",
        "\n",
        "        malus[bonus>0]=0\n",
        "\n",
        "        self.board = bonus + malus\n",
        "\n",
        "        self.position = np.zeros((self.grid_size, self.grid_size))\n",
        "        self.position[0:2,:]= -1\n",
        "        self.position[:,0:2] = -1\n",
        "        self.position[-2:, :] = -1\n",
        "        self.position[-2:, :] = -1\n",
        "        self.board[self.x,self.y] = 0\n",
        "        self.t = 0\n",
        "\n",
        "        state = np.concatenate((\n",
        "                               self.board.reshape(self.grid_size, self.grid_size,1),\n",
        "                        self.position.reshape(self.grid_size, self.grid_size,1)),axis=2)\n",
        "\n",
        "        state = state[self.x - 2:self.x + 3, self.y - 2:self.y + 3, :]\n",
        "        return state"
      ],
      "execution_count": 0,
      "outputs": []
    },
    {
      "cell_type": "markdown",
      "metadata": {
        "id": "keVaeMZRdLBS",
        "colab_type": "text"
      },
      "source": [
        "The following elements are important because they correspond to the hyper parameters for this project:"
      ]
    },
    {
      "cell_type": "code",
      "metadata": {
        "id": "yy_CVu2JdLBT",
        "colab_type": "code",
        "colab": {}
      },
      "source": [
        "# parameters\n",
        "size = 13\n",
        "T=200\n",
        "temperature=0.3\n",
        "epochs_train=50 # set small when debugging\n",
        "epochs_test=15 # set small when debugging\n",
        "\n",
        "# display videos\n",
        "def display_videos(name):\n",
        "    video = io.open(name, 'r+b').read()\n",
        "    encoded = base64.b64encode(video)\n",
        "    return '''<video alt=\"test\" controls>\n",
        "                <source src=\"data:video/mp4;base64,{0}\" type=\"video/mp4\" />\n",
        "             </video>'''.format(encoded.decode('ascii'))"
      ],
      "execution_count": 0,
      "outputs": []
    },
    {
      "cell_type": "markdown",
      "metadata": {
        "id": "og-oDkRRdLBW",
        "colab_type": "text"
      },
      "source": [
        "__Question 2__ Explain the use of the arrays ```position``` and ```board```."
      ]
    },
    {
      "cell_type": "markdown",
      "metadata": {
        "id": "E3uw4vFwdLBW",
        "colab_type": "text"
      },
      "source": [
        "**Answer:**  \n",
        "The array *board* is usde to store the reward of being in each cell over the $N\\times N$ grid. If the agent is in a certain cell that we can access through the coordinates x and y, one reward is collected by him during an episode, this reward is reset to 0.\n",
        "\n",
        "The array *position* defines the allowed states and the position of the agent, the borders (forbidden states) of the grid. At each step of the game, a value of -1 is assigned for the cells representing the borders , a value of 0 is assigned for all the other cells that can be visited, and a value of 1 is assigned for the current cell occupied by the agent.  \n",
        "In conclusion, the arrays *position* and *board* are essential to describe the environment."
      ]
    },
    {
      "cell_type": "markdown",
      "metadata": {
        "id": "h4scqeqydLBX",
        "colab_type": "text"
      },
      "source": [
        "## Random Agent"
      ]
    },
    {
      "cell_type": "markdown",
      "metadata": {
        "id": "-QW5OW0MdLBX",
        "colab_type": "text"
      },
      "source": [
        "***\n",
        "__Question 3__ Implement a random Agent (only ```learned_act``` needs to be implemented):"
      ]
    },
    {
      "cell_type": "code",
      "metadata": {
        "id": "EGRrSqH2dLBY",
        "colab_type": "code",
        "colab": {}
      },
      "source": [
        "class RandomAgent(Agent):\n",
        "    def __init__(self):\n",
        "        super(RandomAgent, self).__init__()\n",
        "        pass\n",
        "\n",
        "    def learned_act(self, s):\n",
        "        return np.random.randint(self.n_action) # randomly choose an action among possible actions with probability 1/n_actions\n",
        "        "
      ],
      "execution_count": 0,
      "outputs": []
    },
    {
      "cell_type": "markdown",
      "metadata": {
        "id": "K7dI3oyudLBZ",
        "colab_type": "text"
      },
      "source": [
        "***\n",
        "***\n",
        "__Question 4__ Visualize the game moves. You need to fill in the following function for the evaluation:"
      ]
    },
    {
      "cell_type": "code",
      "metadata": {
        "id": "qDKE7B7PdLBa",
        "colab_type": "code",
        "colab": {}
      },
      "source": [
        "def test(agent,env,epochs,prefix=''):\n",
        "    # Number of won games\n",
        "    score = 0\n",
        "        \n",
        "    for e in range(epochs):\n",
        "\n",
        "        ##### FILL IN HERE\n",
        "        \n",
        "        # At each epoch, we restart to a fresh game and get the initial state\n",
        "        state = env.reset()\n",
        "        # This assumes that the games will end\n",
        "        game_over = False\n",
        "\n",
        "        win = 0\n",
        "        lose = 0\n",
        "        \n",
        "        while not game_over:\n",
        "            # The agent performs an action\n",
        "            action = agent.act(state)\n",
        "\n",
        "            # Apply an action to the environment, get the next state, the reward\n",
        "            # and if the games end\n",
        "            state, reward, game_over = env.act(action)\n",
        "\n",
        "            # Update the counters\n",
        "            if reward > 0:\n",
        "                win = win + reward\n",
        "            if reward < 0:\n",
        "                lose = lose -reward\n",
        "        \n",
        "        # Save as a mp4\n",
        "        env.draw(prefix+str(e))\n",
        "\n",
        "        # Update stats\n",
        "        score = score + win-lose\n",
        "\n",
        "        print(\"Win/lose count {}/{}. Average score ({})\"\n",
        "              .format(win, lose, score/(1+e)))\n",
        "    print('Final score: '+str(score/epochs))"
      ],
      "execution_count": 0,
      "outputs": []
    },
    {
      "cell_type": "code",
      "metadata": {
        "id": "d7w9Cy0MdLBd",
        "colab_type": "code",
        "outputId": "e652df00-50ed-41ca-bfd3-838e952dd950",
        "colab": {
          "base_uri": "https://localhost:8080/",
          "height": 566
        }
      },
      "source": [
        "# Initialize the game\n",
        "env = Environment(grid_size=size, max_time=T,temperature=temperature)\n",
        "\n",
        "# Initialize the agent!\n",
        "agent = RandomAgent()\n",
        "\n",
        "test(agent,env,epochs_test,prefix='random')\n",
        "HTML(display_videos('random0.mp4'))"
      ],
      "execution_count": 9,
      "outputs": [
        {
          "output_type": "stream",
          "text": [
            "Win/lose count 11.0/13.0. Average score (-2.0)\n",
            "Win/lose count 8.0/12.0. Average score (-3.0)\n",
            "Win/lose count 11.0/18.0. Average score (-4.333333333333333)\n",
            "Win/lose count 10.5/21.0. Average score (-5.875)\n",
            "Win/lose count 8.0/12.0. Average score (-5.5)\n",
            "Win/lose count 16.0/19.0. Average score (-5.083333333333333)\n",
            "Win/lose count 10.0/13.0. Average score (-4.785714285714286)\n",
            "Win/lose count 10.5/10.0. Average score (-4.125)\n",
            "Win/lose count 16.5/14.0. Average score (-3.388888888888889)\n",
            "Win/lose count 10.5/8.0. Average score (-2.8)\n",
            "Win/lose count 11.5/14.0. Average score (-2.772727272727273)\n",
            "Win/lose count 10.5/9.0. Average score (-2.4166666666666665)\n",
            "Win/lose count 5.0/15.0. Average score (-3.0)\n",
            "Win/lose count 7.0/18.0. Average score (-3.5714285714285716)\n",
            "Win/lose count 8.0/16.0. Average score (-3.8666666666666667)\n",
            "Final score: -3.8666666666666667\n"
          ],
          "name": "stdout"
        },
        {
          "output_type": "execute_result",
          "data": {
            "text/html": [
              "<video alt=\"test\" controls>\n",
              "                <source src=\"data:video/mp4;base64,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\" type=\"video/mp4\" />\n",
              "             </video>"
            ],
            "text/plain": [
              "<IPython.core.display.HTML object>"
            ]
          },
          "metadata": {
            "tags": []
          },
          "execution_count": 9
        }
      ]
    },
    {
      "cell_type": "markdown",
      "metadata": {
        "id": "FGzc7YzIdLBg",
        "colab_type": "text"
      },
      "source": [
        "***\n",
        "## DQN"
      ]
    },
    {
      "cell_type": "markdown",
      "metadata": {
        "id": "IIBratWudLBh",
        "colab_type": "text"
      },
      "source": [
        "Let us assume here that $T=\\infty$.\n",
        "\n",
        "***\n",
        "__Question 5__ Let $\\pi$ be a policy, show that:\n",
        "\n",
        "\\begin{equation*}\n",
        "Q^{\\pi}(s,a)=E_{(s',a')\\sim p(.|s,a)}[r(s,a)+\\gamma Q^{\\pi}(s',a')]\n",
        "\\end{equation*}\n",
        "\n",
        "Then, show that for the optimal policy $\\pi^*$ (we assume its existence), the following holds: \n",
        "\n",
        "\\begin{equation*}\n",
        "Q^{*}(s,a)=E_{s'\\sim \\pi^*(.|s,a)}[r(s,a)+\\gamma\\max_{a'}Q^{*}(s',a')].\n",
        "\\end{equation*}\n",
        "Finally, deduce that a plausible objective is:\n",
        "\n",
        "\\begin{equation*}\n",
        "\\mathcal{L}(\\theta)=E_{s' \\sim \\pi^*(.|s,a)}\\Vert r+\\gamma\\max\\max_{a'}Q(s',a',\\theta)-Q(s,a,\\theta)\\Vert^{2}.\n",
        "\\end{equation*}\n",
        "\n",
        "\n"
      ]
    },
    {
      "cell_type": "markdown",
      "metadata": {
        "id": "zjtINHTMhO6I",
        "colab_type": "text"
      },
      "source": [
        "**Answer:**  \n",
        "We have : \n",
        "$$\n",
        "\\begin{align*} \n",
        "Q^\\pi(s,a)& = \\mathbb{E}_{p^{\\pi}}[\\sum_{t=0}^{\\infty}\\gamma^{t}r(s_{t},a_{t})|s_{0}=s,a_{0}=a]\\\\\n",
        "          &=  \\mathbb{E}_{p^{\\pi}}[r(s_0,a_0) + \\gamma\\sum_{t=1}^{\\infty}\\gamma^{t-1}r(s_{t},a_{t})|s_{0}=s,a_{0}=a]\\\\\n",
        "          & = r(s,a) + \\gamma \\mathbb{E}_{p^{\\pi}}[\\sum_{t=0}^{\\infty}\\gamma^{t}r(s_{t+1},a_{t+1})|s_{0}=s,a_{0}=a]\\\\\n",
        "          & = r(s,a) + \\mathbb{E}_{(s',a')\\sim p(.|s,a)}\\left(\\gamma \\mathbb{E}_{p^{\\pi}}[\\sum_{t=0}^{\\infty}\\gamma^{t}r(s_{t},a_{t})|s_{0}=s',a_{0}=a']\\right)\\\\\n",
        "          & = \\mathbb{E}_{(s',a')\\sim p(.|s,a)}\\left(r(s,a) + \\gamma \\mathbb{E}_{p^{\\pi}}[\\sum_{t=0}^{\\infty}\\gamma^{t}r(s_{t},a_{t})|s_{0}=s',a_{0}=a']\\right)\\\\\n",
        "          & = \\mathbb{E}_{(s',a')\\sim p(.|s,a)}[r(s,a) + \\gamma Q^{\\pi}(s',a') ]\n",
        "\\end{align*}\n",
        "$$\n",
        "  \n",
        "\n",
        "Since $\\pi^*(s') = arg\\max_{a'} Q^{*}(s',a')$, is a deterministic policy.\n",
        "\n",
        "$$\n",
        "\\begin{align*}\n",
        "Q^*(s,a)& = \\mathbb{E}_{(s',a')\\sim p(.|s,a)}[r(s,a) + \\gamma Q^{*}(s',a') ]\\\\\n",
        "        & = \\mathbb{E}_{s'\\sim p(.|s,a)\\,and\\,a'\\sim \\pi^*(.|s')}[r(s,a) + \\gamma Q^{*}(s',a') ]\\\\\n",
        "        & = \\mathbb{E}_{s' \\sim \\pi^*(.|s,a)}[r(s,a) + \\gamma \\max_{a'}Q^{*}(s',a') ]\\\\\n",
        "\\end{align*}\n",
        "$$\n",
        "\n",
        "Finally, we have shown that $Q^*(s,a)=\\mathbb{E}_{s' \\sim \\pi^*(.|s,a)}[r(s,a) + \\gamma \\max_{a'}Q^{*}(s',a') ]$, therefore, $Q^*$ is the solution of the equation $B(Q) = 0$ with $$B(Q) = \\mathbb{E}_{s' \\sim \\pi^*(.|s,a)}[r(s,a) + \\gamma \\max_{a'}Q(s',a') - Q(s,a)]$$\n",
        "\n",
        "Minimizing $\\mathcal{L}(\\theta)=\\mathbb{E}_{s' \\sim \\pi^*(.|s,a)}\\Vert r+\\gamma\\max_{a'}Q(s',a',\\theta)-Q(s,a,\\theta)\\Vert^{2}$ will result in finding the optimal Q.\n"
      ]
    },
    {
      "cell_type": "markdown",
      "metadata": {
        "id": "ySUJx0SxdLBi",
        "colab_type": "text"
      },
      "source": [
        "***\n",
        "The DQN-learning algorithm relies on these derivations to train the parameters $\\theta$ of a Deep Neural Network:\n",
        "\n",
        "1. At the state $s_t$, select the action $a_t$ with best reward using $Q_t$ and store the results;\n",
        "\n",
        "2. Obtain the new state $s_{t+1}$ from the environment $p$;\n",
        "\n",
        "3. Store $(s_t,a_t,s_{t+1})$;\n",
        "\n",
        "4. Obtain $Q_{t+1}$ by minimizing  $\\mathcal{L}$ from a recovered batch from the previously stored results.\n",
        "\n",
        "***\n",
        "__Question 6__ Implement the class ```Memory``` that stores moves (in a replay buffer) via ```remember``` and provides a ```random_access``` to these. Specify a maximum memory size to avoid side effects. You can for example use a ```list()``` and set by default ```max_memory=100```."
      ]
    },
    {
      "cell_type": "code",
      "metadata": {
        "id": "5t0180DTdLBj",
        "colab_type": "code",
        "colab": {}
      },
      "source": [
        "class Memory(object):\n",
        "    def __init__(self, max_memory=100):\n",
        "        self.max_memory = max_memory\n",
        "        self.memory = list()\n",
        "\n",
        "    def remember(self, m):\n",
        "        if len(self.memory) >= self.max_memory:\n",
        "            self.memory.pop(0) #free the memory when it exceeds max_size\n",
        "        self.memory.append(m)\n",
        "\n",
        "    def random_access(self):\n",
        "        return self.memory[np.random.randint(len(self.memory))]"
      ],
      "execution_count": 0,
      "outputs": []
    },
    {
      "cell_type": "markdown",
      "metadata": {
        "id": "zpU2_Y9zdLBk",
        "colab_type": "text"
      },
      "source": [
        "***\n",
        "The pipeline we will use for training is given below:"
      ]
    },
    {
      "cell_type": "code",
      "metadata": {
        "id": "WyMJgOp_dLBl",
        "colab_type": "code",
        "colab": {}
      },
      "source": [
        "def train(agent,env,epoch,prefix=''):\n",
        "    # Number of won games\n",
        "    score = 0\n",
        "    loss = 0\n",
        "\n",
        "    for e in range(epoch):\n",
        "        # At each epoch, we restart to a fresh game and get the initial state\n",
        "        state = env.reset()\n",
        "        # This assumes that the games will terminate\n",
        "        game_over = False\n",
        "\n",
        "        win = 0\n",
        "        lose = 0\n",
        "\n",
        "        while not game_over:\n",
        "            # The agent performs an action\n",
        "            action = agent.act(state)\n",
        "\n",
        "            # Apply an action to the environment, get the next state, the reward\n",
        "            # and if the games end\n",
        "            prev_state = state\n",
        "            state, reward, game_over = env.act(action)\n",
        "\n",
        "            # Update the counters\n",
        "            if reward > 0:\n",
        "                win = win + reward\n",
        "            if reward < 0:\n",
        "                lose = lose -reward\n",
        "\n",
        "            # Apply the reinforcement strategy\n",
        "            loss = agent.reinforce(prev_state, state,  action, reward, game_over)\n",
        "\n",
        "        # Save as a mp4\n",
        "        if e % 10 == 0:\n",
        "            env.draw(prefix+str(e))\n",
        "\n",
        "        # Update stats\n",
        "        score += win-lose\n",
        "\n",
        "        print(\"Epoch {:03d}/{:03d} | Loss {:.4f} | Win/lose count {}/{} ({})\"\n",
        "              .format(e, epoch, loss, win, lose, win-lose))\n",
        "        agent.save(name_weights=prefix+'model.h5',name_model=prefix+'model.json')"
      ],
      "execution_count": 0,
      "outputs": []
    },
    {
      "cell_type": "markdown",
      "metadata": {
        "id": "QlAFxiuCdLBn",
        "colab_type": "text"
      },
      "source": [
        "***\n",
        "__Question 7__ Implement the DQN training algorithm using a cascade of fully connected layers. You can use different learning rate, batch size or memory size parameters. In particular, the loss might oscillate while the player will start to win the games. You have to find a good criterium."
      ]
    },
    {
      "cell_type": "code",
      "metadata": {
        "id": "PhTVxD0hmdBW",
        "colab_type": "code",
        "colab": {}
      },
      "source": [
        "from warnings import filterwarnings\n",
        "filterwarnings('ignore')"
      ],
      "execution_count": 0,
      "outputs": []
    },
    {
      "cell_type": "code",
      "metadata": {
        "id": "9hZvJLFUdLBn",
        "colab_type": "code",
        "colab": {}
      },
      "source": [
        "class DQN(Agent):\n",
        "    def __init__(self, grid_size,  epsilon = 0.1, memory_size=100, batch_size = 16,n_state=2):\n",
        "        super(DQN, self).__init__(epsilon = epsilon)\n",
        "\n",
        "        # Discount for Q learning\n",
        "        self.discount = 0.99\n",
        "        \n",
        "        self.grid_size = grid_size\n",
        "        \n",
        "        # number of state\n",
        "        self.n_state = n_state\n",
        "\n",
        "        # Memory\n",
        "        self.memory = Memory(memory_size)\n",
        "        \n",
        "        # Batch size when learning\n",
        "        self.batch_size = batch_size\n",
        "\n",
        "    def learned_act(self, s):\n",
        "        # predict the Q function by the current model and take the action which maximizes the Q function\n",
        "        q = self.model.predict(s.reshape((1, 5, 5, self.n_state)))\n",
        "        a = np.argmax(q)\n",
        "        return a\n",
        "\n",
        "    def reinforce(self, s_, n_s_, a_, r_, game_over_):\n",
        "        # Two steps: first memorize the states, second learn from the pool\n",
        "\n",
        "        self.memory.remember([s_, n_s_, a_, r_, game_over_])\n",
        "        \n",
        "        input_states = np.zeros((self.batch_size, 5,5,self.n_state))\n",
        "        target_q = np.zeros((self.batch_size, 4))\n",
        "        \n",
        "        for i in range(self.batch_size):\n",
        "            ######## FILL IN\n",
        "            # Saving current state\n",
        "            input_states[i] = s_\n",
        "            \n",
        "            # Get current Q(s,.)\n",
        "            target_q[i] = self.model.predict(s_[None])\n",
        "            \n",
        "            # Update Q(s,a)\n",
        "            if game_over_:\n",
        "                ######## FILL IN\n",
        "                # There is no next state, we take only the reward\n",
        "                target_q[i,a_] = r_\n",
        "            else:\n",
        "                ######## FILL IN\n",
        "                # We update target_q by computing the Temporal-Difference error \n",
        "                target_q[i,a_] = r_ + self.discount*np.max(self.model.predict(n_s_[None]),axis=1)\n",
        "                \n",
        "        ######## FILL IN\n",
        "        # HINT: Clip the target to avoid exploding gradients.. -- clipping is a bit tighter\n",
        "        target_q = np.clip(target_q, -3, 3)\n",
        "\n",
        "        l = self.model.train_on_batch(input_states, target_q)\n",
        "\n",
        "\n",
        "        return l\n",
        "\n",
        "    def save(self,name_weights='model.h5',name_model='model.json'):\n",
        "        self.model.save_weights(name_weights, overwrite=True)\n",
        "        with open(name_model, \"w\") as outfile:\n",
        "            json.dump(self.model.to_json(), outfile)\n",
        "            \n",
        "    def load(self,name_weights='model.h5',name_model='model.json'):\n",
        "        with open(name_model, \"r\") as jfile:\n",
        "            model = model_from_json(json.load(jfile))\n",
        "        model.load_weights(name_weights)\n",
        "        model.compile(\"sgd\", \"mse\")\n",
        "        self.model = model\n",
        "\n",
        "            \n",
        "class DQN_FC(DQN):\n",
        "    def __init__(self, *args, lr=0.1,**kwargs):\n",
        "        super(DQN_FC, self).__init__( *args,**kwargs)\n",
        "        \n",
        "        # NN Model\n",
        "        model = Sequential()\n",
        "        # Flattening the input frame\n",
        "        model.add(Flatten(input_shape=(5,5,self.n_state)))\n",
        "        # First fully connected layer\n",
        "        model.add(Dense(20, activation='relu'))\n",
        "        # Final fully connected layer\n",
        "        model.add(Dense(4))\n",
        "        \n",
        "        model.compile(sgd(lr=lr, decay=1e-4, momentum=0.0), \"mse\")\n",
        "        self.model = model\n",
        "        "
      ],
      "execution_count": 0,
      "outputs": []
    },
    {
      "cell_type": "code",
      "metadata": {
        "id": "jzdpooXjoned",
        "colab_type": "code",
        "colab": {}
      },
      "source": [
        "size = 13\n",
        "T=200\n",
        "temperature=0.3\n",
        "epochs_train=50\n",
        "epochs_test=15"
      ],
      "execution_count": 0,
      "outputs": []
    },
    {
      "cell_type": "code",
      "metadata": {
        "id": "omXHm3Oy0tCR",
        "colab_type": "code",
        "colab": {
          "base_uri": "https://localhost:8080/",
          "height": 1000
        },
        "outputId": "20a094a3-fe2a-4c8b-c147-acc6ae9a27ef"
      },
      "source": [
        "env = Environment(grid_size=size, max_time=T, temperature=0.3)\n",
        "agent = DQN_FC(size, lr=.1, epsilon = 0.1, memory_size=2000, batch_size = 32)\n",
        "train(agent, env, epochs_train, prefix='fc_train')\n",
        "HTML(display_videos('fc_train10.mp4'))"
      ],
      "execution_count": 34,
      "outputs": [
        {
          "output_type": "stream",
          "text": [
            "Epoch 000/050 | Loss 0.1260 | Win/lose count 6.0/7.0 (-1.0)\n",
            "Epoch 001/050 | Loss 0.4354 | Win/lose count 3.5/6.0 (-2.5)\n",
            "Epoch 002/050 | Loss 0.5512 | Win/lose count 4.0/3.0 (1.0)\n",
            "Epoch 003/050 | Loss 0.3130 | Win/lose count 1.5/4.0 (-2.5)\n",
            "Epoch 004/050 | Loss 0.4777 | Win/lose count 5.0/3.0 (2.0)\n",
            "Epoch 005/050 | Loss 0.2317 | Win/lose count 3.5/8.0 (-4.5)\n",
            "Epoch 006/050 | Loss 0.4351 | Win/lose count 7.5/9.0 (-1.5)\n",
            "Epoch 007/050 | Loss 0.3572 | Win/lose count 4.0/6.0 (-2.0)\n",
            "Epoch 008/050 | Loss 0.5151 | Win/lose count 3.0/4.0 (-1.0)\n",
            "Epoch 009/050 | Loss 0.4981 | Win/lose count 3.0/6.0 (-3.0)\n",
            "Epoch 010/050 | Loss 0.4338 | Win/lose count 10.5/14.0 (-3.5)\n",
            "Epoch 011/050 | Loss 0.3544 | Win/lose count 6.5/5.0 (1.5)\n",
            "Epoch 012/050 | Loss 0.4402 | Win/lose count 6.5/2.0 (4.5)\n",
            "Epoch 013/050 | Loss 1.0888 | Win/lose count 4.0/3.0 (1.0)\n",
            "Epoch 014/050 | Loss 1.3942 | Win/lose count 8.5/2.0 (6.5)\n",
            "Epoch 015/050 | Loss 0.9279 | Win/lose count 2.5/1.0 (1.5)\n",
            "Epoch 016/050 | Loss 0.6673 | Win/lose count 4.5/1.0 (3.5)\n",
            "Epoch 017/050 | Loss 1.1985 | Win/lose count 4.0/3.0 (1.0)\n",
            "Epoch 018/050 | Loss 0.4305 | Win/lose count 2.5/1.0 (1.5)\n",
            "Epoch 019/050 | Loss 0.5311 | Win/lose count 2.5/2.0 (0.5)\n",
            "Epoch 020/050 | Loss 0.6492 | Win/lose count 6.0/8.0 (-2.0)\n",
            "Epoch 021/050 | Loss 0.4039 | Win/lose count 2.0/2.0 (0.0)\n",
            "Epoch 022/050 | Loss 0.2417 | Win/lose count 3.5/2.0 (1.5)\n",
            "Epoch 023/050 | Loss 0.7022 | Win/lose count 7.0/5.0 (2.0)\n",
            "Epoch 024/050 | Loss 0.3055 | Win/lose count 1.0/3.0 (-2.0)\n",
            "Epoch 025/050 | Loss 0.6115 | Win/lose count 9.5/8.0 (1.5)\n",
            "Epoch 026/050 | Loss 0.4431 | Win/lose count 9.0/6.0 (3.0)\n",
            "Epoch 027/050 | Loss 0.2569 | Win/lose count 2.0/3.0 (-1.0)\n",
            "Epoch 028/050 | Loss 0.2057 | Win/lose count 9.5/6.0 (3.5)\n",
            "Epoch 029/050 | Loss 0.6157 | Win/lose count 5.0/4.0 (1.0)\n",
            "Epoch 030/050 | Loss 0.9312 | Win/lose count 11.5/3.0 (8.5)\n",
            "Epoch 031/050 | Loss 0.8357 | Win/lose count 5.5/2.0 (3.5)\n",
            "Epoch 032/050 | Loss 1.0902 | Win/lose count 7.0/4.0 (3.0)\n",
            "Epoch 033/050 | Loss 0.8939 | Win/lose count 2.5/1.0 (1.5)\n",
            "Epoch 034/050 | Loss 1.2618 | Win/lose count 13.5/5.0 (8.5)\n",
            "Epoch 035/050 | Loss 1.3201 | Win/lose count 9.5/3.0 (6.5)\n",
            "Epoch 036/050 | Loss 1.6311 | Win/lose count 2.0/0 (2.0)\n",
            "Epoch 037/050 | Loss 1.0410 | Win/lose count 4.5/2.0 (2.5)\n",
            "Epoch 038/050 | Loss 0.9768 | Win/lose count 8.0/4.0 (4.0)\n",
            "Epoch 039/050 | Loss 1.4717 | Win/lose count 12.0/8.0 (4.0)\n",
            "Epoch 040/050 | Loss 1.2538 | Win/lose count 15.0/1.0 (14.0)\n",
            "Epoch 041/050 | Loss 1.4300 | Win/lose count 13.0/3.0 (10.0)\n",
            "Epoch 042/050 | Loss 2.0700 | Win/lose count 6.5/4.0 (2.5)\n",
            "Epoch 043/050 | Loss 1.1853 | Win/lose count 13.0/3.0 (10.0)\n",
            "Epoch 044/050 | Loss 1.6498 | Win/lose count 9.0/5.0 (4.0)\n",
            "Epoch 045/050 | Loss 1.5660 | Win/lose count 12.5/4.0 (8.5)\n",
            "Epoch 046/050 | Loss 1.5430 | Win/lose count 8.0/4.0 (4.0)\n",
            "Epoch 047/050 | Loss 1.4548 | Win/lose count 6.0/0 (6.0)\n",
            "Epoch 048/050 | Loss 1.0979 | Win/lose count 7.0/1.0 (6.0)\n",
            "Epoch 049/050 | Loss 1.4868 | Win/lose count 7.0/2.0 (5.0)\n"
          ],
          "name": "stdout"
        },
        {
          "output_type": "execute_result",
          "data": {
            "text/html": [
              "<video alt=\"test\" controls>\n",
              "                <source src=\"data:video/mp4;base64,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\" type=\"video/mp4\" />\n",
              "             </video>"
            ],
            "text/plain": [
              "<IPython.core.display.HTML object>"
            ]
          },
          "metadata": {
            "tags": []
          },
          "execution_count": 34
        }
      ]
    },
    {
      "cell_type": "code",
      "metadata": {
        "id": "GtZ4RYYIdLBq",
        "colab_type": "code",
        "outputId": "5addebb3-b627-40ed-a859-7f73e325f99d",
        "colab": {
          "base_uri": "https://localhost:8080/",
          "height": 1000
        }
      },
      "source": [
        "env = Environment(grid_size=size, max_time=T, temperature=0.3)\n",
        "agent = DQN_FC(size, lr=.1, epsilon = 0.1, memory_size=2000, batch_size = 32)\n",
        "train(agent, env, epochs_train, prefix='fc_train')\n",
        "HTML(display_videos('fc_train10.mp4'))"
      ],
      "execution_count": 40,
      "outputs": [
        {
          "output_type": "stream",
          "text": [
            "Epoch 000/050 | Loss 0.0200 | Win/lose count 4.0/2.0 (2.0)\n",
            "Epoch 001/050 | Loss 0.0003 | Win/lose count 7.5/10.0 (-2.5)\n",
            "Epoch 002/050 | Loss 0.0976 | Win/lose count 6.5/4.0 (2.5)\n",
            "Epoch 003/050 | Loss 0.2121 | Win/lose count 3.5/4.0 (-0.5)\n",
            "Epoch 004/050 | Loss 0.2517 | Win/lose count 6.5/14.0 (-7.5)\n",
            "Epoch 005/050 | Loss 0.0809 | Win/lose count 4.5/5.0 (-0.5)\n",
            "Epoch 006/050 | Loss 0.1599 | Win/lose count 4.5/1.0 (3.5)\n",
            "Epoch 007/050 | Loss 0.1794 | Win/lose count 4.5/7.0 (-2.5)\n",
            "Epoch 008/050 | Loss 0.2842 | Win/lose count 4.5/3.0 (1.5)\n",
            "Epoch 009/050 | Loss 0.2236 | Win/lose count 3.0/6.0 (-3.0)\n",
            "Epoch 010/050 | Loss 0.1546 | Win/lose count 2.5/3.0 (-0.5)\n",
            "Epoch 011/050 | Loss 0.6005 | Win/lose count 3.0/4.0 (-1.0)\n",
            "Epoch 012/050 | Loss 0.2365 | Win/lose count 3.5/7.0 (-3.5)\n",
            "Epoch 013/050 | Loss 0.3900 | Win/lose count 5.0/4.0 (1.0)\n",
            "Epoch 014/050 | Loss 0.3984 | Win/lose count 3.0/2.0 (1.0)\n",
            "Epoch 015/050 | Loss 0.9254 | Win/lose count 6.5/7.0 (-0.5)\n",
            "Epoch 016/050 | Loss 1.2056 | Win/lose count 8.5/3.0 (5.5)\n",
            "Epoch 017/050 | Loss 1.5342 | Win/lose count 5.0/6.0 (-1.0)\n",
            "Epoch 018/050 | Loss 1.6747 | Win/lose count 9.5/4.0 (5.5)\n",
            "Epoch 019/050 | Loss 1.4597 | Win/lose count 5.0/5.0 (0.0)\n",
            "Epoch 020/050 | Loss 0.9558 | Win/lose count 5.5/3.0 (2.5)\n",
            "Epoch 021/050 | Loss 1.5351 | Win/lose count 4.0/4.0 (0.0)\n",
            "Epoch 022/050 | Loss 1.3989 | Win/lose count 4.5/9.0 (-4.5)\n",
            "Epoch 023/050 | Loss 0.8238 | Win/lose count 3.0/5.0 (-2.0)\n",
            "Epoch 024/050 | Loss 1.3572 | Win/lose count 7.0/7.0 (0.0)\n",
            "Epoch 025/050 | Loss 0.9628 | Win/lose count 5.5/4.0 (1.5)\n",
            "Epoch 026/050 | Loss 1.7437 | Win/lose count 6.5/5.0 (1.5)\n",
            "Epoch 027/050 | Loss 1.4565 | Win/lose count 6.0/3.0 (3.0)\n",
            "Epoch 028/050 | Loss 1.2697 | Win/lose count 9.0/5.0 (4.0)\n",
            "Epoch 029/050 | Loss 1.1201 | Win/lose count 3.5/4.0 (-0.5)\n",
            "Epoch 030/050 | Loss 0.7011 | Win/lose count 4.0/5.0 (-1.0)\n",
            "Epoch 031/050 | Loss 0.8233 | Win/lose count 2.5/1.0 (1.5)\n",
            "Epoch 032/050 | Loss 1.4253 | Win/lose count 4.0/2.0 (2.0)\n",
            "Epoch 033/050 | Loss 1.0923 | Win/lose count 6.5/4.0 (2.5)\n",
            "Epoch 034/050 | Loss 1.0438 | Win/lose count 7.0/5.0 (2.0)\n",
            "Epoch 035/050 | Loss 1.6086 | Win/lose count 7.0/2.0 (5.0)\n",
            "Epoch 036/050 | Loss 1.5308 | Win/lose count 8.0/3.0 (5.0)\n",
            "Epoch 037/050 | Loss 1.1597 | Win/lose count 6.5/1.0 (5.5)\n",
            "Epoch 038/050 | Loss 1.2158 | Win/lose count 9.0/5.0 (4.0)\n",
            "Epoch 039/050 | Loss 1.3445 | Win/lose count 2.0/0 (2.0)\n",
            "Epoch 040/050 | Loss 1.4111 | Win/lose count 15.5/4.0 (11.5)\n",
            "Epoch 041/050 | Loss 2.8401 | Win/lose count 2.0/1.0 (1.0)\n",
            "Epoch 042/050 | Loss 1.7413 | Win/lose count 9.5/1.0 (8.5)\n",
            "Epoch 043/050 | Loss 1.9065 | Win/lose count 3.5/3.0 (0.5)\n",
            "Epoch 044/050 | Loss 1.7238 | Win/lose count 7.0/2.0 (5.0)\n",
            "Epoch 045/050 | Loss 1.1226 | Win/lose count 2.0/1.0 (1.0)\n",
            "Epoch 046/050 | Loss 1.3589 | Win/lose count 10.0/5.0 (5.0)\n",
            "Epoch 047/050 | Loss 0.7654 | Win/lose count 2.5/4.0 (-1.5)\n",
            "Epoch 048/050 | Loss 0.9001 | Win/lose count 5.0/4.0 (1.0)\n",
            "Epoch 049/050 | Loss 1.4108 | Win/lose count 10.5/4.0 (6.5)\n"
          ],
          "name": "stdout"
        },
        {
          "output_type": "execute_result",
          "data": {
            "text/html": [
              "<video alt=\"test\" controls>\n",
              "                <source src=\"data:video/mp4;base64,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\" type=\"video/mp4\" />\n",
              "             </video>"
            ],
            "text/plain": [
              "<IPython.core.display.HTML object>"
            ]
          },
          "metadata": {
            "tags": []
          },
          "execution_count": 40
        }
      ]
    },
    {
      "cell_type": "markdown",
      "metadata": {
        "id": "F_b2c2ejdLBx",
        "colab_type": "text"
      },
      "source": [
        "***\n",
        "***\n",
        "__Question 8__ Implement the DQN training algorithm using a CNN (for example, 2 convolutional layers and one final fully connected layer)."
      ]
    },
    {
      "cell_type": "code",
      "metadata": {
        "id": "d3V1Qy9qdLBy",
        "colab_type": "code",
        "colab": {}
      },
      "source": [
        "class DQN_CNN(DQN):\n",
        "    def __init__(self, *args,lr=0.1,**kwargs):\n",
        "        super(DQN_CNN, self).__init__(*args,**kwargs)\n",
        "        \n",
        "        ###### FILL IN\n",
        "        \n",
        "        model = Sequential()\n",
        "        model.add(Conv2D(16, (3,3), input_shape=(5,5,self.n_state), activation=\"relu\"))\n",
        "        model.add(Conv2D(32, (3,3), activation=\"relu\"))\n",
        "        model.add(Flatten())\n",
        "        model.add(Dense(4))\n",
        "        \n",
        "        model.compile(sgd(lr=lr, decay=1e-4, momentum=0.0), \"mse\")\n",
        "        self.model = model"
      ],
      "execution_count": 0,
      "outputs": []
    },
    {
      "cell_type": "code",
      "metadata": {
        "id": "OMKsN9ggdLB2",
        "colab_type": "code",
        "outputId": "a413e194-9dc3-47b6-9d8c-545478a374be",
        "colab": {
          "base_uri": "https://localhost:8080/",
          "height": 1000
        }
      },
      "source": [
        "env = Environment(grid_size=size, max_time=T, temperature=0.3)\n",
        "agent = DQN_CNN(size, lr=.1, epsilon = 0.1, memory_size=2000, batch_size = 32)\n",
        "train(agent,env,epochs_train,prefix='cnn_train')\n",
        "HTML(display_videos('cnn_train10.mp4'))"
      ],
      "execution_count": 26,
      "outputs": [
        {
          "output_type": "stream",
          "text": [
            "Epoch 000/050 | Loss 0.0001 | Win/lose count 1.5/3.0 (-1.5)\n",
            "Epoch 001/050 | Loss 0.0000 | Win/lose count 6.0/12.0 (-6.0)\n",
            "Epoch 002/050 | Loss 0.0002 | Win/lose count 3.5/4.0 (-0.5)\n",
            "Epoch 003/050 | Loss 0.0002 | Win/lose count 2.5/6.0 (-3.5)\n",
            "Epoch 004/050 | Loss 0.0008 | Win/lose count 2.5/3.0 (-0.5)\n",
            "Epoch 005/050 | Loss 0.0001 | Win/lose count 2.0/2.0 (0.0)\n",
            "Epoch 006/050 | Loss 0.0046 | Win/lose count 4.5/3.0 (1.5)\n",
            "Epoch 007/050 | Loss 0.0159 | Win/lose count 3.0/1.0 (2.0)\n",
            "Epoch 008/050 | Loss 0.0165 | Win/lose count 4.0/3.0 (1.0)\n",
            "Epoch 009/050 | Loss 0.0001 | Win/lose count 3.0/1.0 (2.0)\n",
            "Epoch 010/050 | Loss 0.0267 | Win/lose count 1.5/2.0 (-0.5)\n",
            "Epoch 011/050 | Loss 0.0474 | Win/lose count 5.0/5.0 (0.0)\n",
            "Epoch 012/050 | Loss 0.0742 | Win/lose count 4.0/3.0 (1.0)\n",
            "Epoch 013/050 | Loss 0.0516 | Win/lose count 2.0/3.0 (-1.0)\n",
            "Epoch 014/050 | Loss 0.1939 | Win/lose count 8.0/4.0 (4.0)\n",
            "Epoch 015/050 | Loss 0.2069 | Win/lose count 6.5/6.0 (0.5)\n",
            "Epoch 016/050 | Loss 0.2800 | Win/lose count 7.0/5.0 (2.0)\n",
            "Epoch 017/050 | Loss 1.4486 | Win/lose count 11.5/5.0 (6.5)\n",
            "Epoch 018/050 | Loss 0.9336 | Win/lose count 16.5/3.0 (13.5)\n",
            "Epoch 019/050 | Loss 1.6839 | Win/lose count 7.0/1.0 (6.0)\n",
            "Epoch 020/050 | Loss 1.9208 | Win/lose count 6.0/4.0 (2.0)\n",
            "Epoch 021/050 | Loss 0.8930 | Win/lose count 4.5/1.0 (3.5)\n",
            "Epoch 022/050 | Loss 1.4445 | Win/lose count 4.5/3.0 (1.5)\n",
            "Epoch 023/050 | Loss 1.1231 | Win/lose count 6.5/4.0 (2.5)\n",
            "Epoch 024/050 | Loss 1.2019 | Win/lose count 13.0/5.0 (8.0)\n",
            "Epoch 025/050 | Loss 1.0739 | Win/lose count 8.0/6.0 (2.0)\n",
            "Epoch 026/050 | Loss 1.3036 | Win/lose count 22.0/5.0 (17.0)\n",
            "Epoch 027/050 | Loss 2.5843 | Win/lose count 17.0/5.0 (12.0)\n",
            "Epoch 028/050 | Loss 1.6558 | Win/lose count 14.0/12.0 (2.0)\n",
            "Epoch 029/050 | Loss 1.8540 | Win/lose count 7.0/3.0 (4.0)\n",
            "Epoch 030/050 | Loss 1.6060 | Win/lose count 11.5/7.0 (4.5)\n",
            "Epoch 031/050 | Loss 1.5380 | Win/lose count 18.5/4.0 (14.5)\n",
            "Epoch 032/050 | Loss 1.4621 | Win/lose count 12.5/2.0 (10.5)\n",
            "Epoch 033/050 | Loss 1.0335 | Win/lose count 8.5/2.0 (6.5)\n",
            "Epoch 034/050 | Loss 1.2494 | Win/lose count 17.0/5.0 (12.0)\n",
            "Epoch 035/050 | Loss 1.8838 | Win/lose count 10.5/0 (10.5)\n",
            "Epoch 036/050 | Loss 1.3887 | Win/lose count 5.5/3.0 (2.5)\n",
            "Epoch 037/050 | Loss 1.1637 | Win/lose count 6.0/3.0 (3.0)\n",
            "Epoch 038/050 | Loss 1.8431 | Win/lose count 19.0/2.0 (17.0)\n",
            "Epoch 039/050 | Loss 1.5290 | Win/lose count 13.0/2.0 (11.0)\n",
            "Epoch 040/050 | Loss 1.1559 | Win/lose count 4.5/1.0 (3.5)\n",
            "Epoch 041/050 | Loss 1.2512 | Win/lose count 3.0/2.0 (1.0)\n",
            "Epoch 042/050 | Loss 1.0463 | Win/lose count 5.5/3.0 (2.5)\n",
            "Epoch 043/050 | Loss 1.4174 | Win/lose count 7.0/1.0 (6.0)\n",
            "Epoch 044/050 | Loss 0.8156 | Win/lose count 4.5/5.0 (-0.5)\n",
            "Epoch 045/050 | Loss 1.3562 | Win/lose count 20.0/9.0 (11.0)\n",
            "Epoch 046/050 | Loss 1.6653 | Win/lose count 16.5/3.0 (13.5)\n",
            "Epoch 047/050 | Loss 1.4950 | Win/lose count 7.5/6.0 (1.5)\n",
            "Epoch 048/050 | Loss 0.9761 | Win/lose count 12.0/6.0 (6.0)\n",
            "Epoch 049/050 | Loss 1.0020 | Win/lose count 11.5/3.0 (8.5)\n"
          ],
          "name": "stdout"
        },
        {
          "output_type": "execute_result",
          "data": {
            "text/html": [
              "<video alt=\"test\" controls>\n",
              "                <source src=\"data:video/mp4;base64,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\" type=\"video/mp4\" />\n",
              "             </video>"
            ],
            "text/plain": [
              "<IPython.core.display.HTML object>"
            ]
          },
          "metadata": {
            "tags": []
          },
          "execution_count": 26
        }
      ]
    },
    {
      "cell_type": "markdown",
      "metadata": {
        "id": "9kxtMv6TdLB4",
        "colab_type": "text"
      },
      "source": [
        "***\n",
        "***\n",
        "__Question 9__ Test both algorithms and compare their performances. Which issue(s) do you observe? Observe also different behaviors by changing the temperature."
      ]
    },
    {
      "cell_type": "code",
      "metadata": {
        "id": "c28O37IB2VKh",
        "colab_type": "code",
        "colab": {
          "base_uri": "https://localhost:8080/",
          "height": 597
        },
        "outputId": "c8ccd161-50f7-4a2d-b8e6-676d87c2eaf3"
      },
      "source": [
        "env = Environment(grid_size=size, max_time=T,temperature=0.3)\n",
        "agent_cnn = DQN_CNN(size, lr=.1, epsilon = 0.1, memory_size=2000, batch_size = 32)\n",
        "agent_cnn.load(name_weights='cnn_trainmodel.h5',name_model='cnn_trainmodel.json')\n",
        "\n",
        "agent_fc = DQN_FC(size, lr=.1, epsilon = 0.1, memory_size=2000, batch_size = 32)\n",
        "agent_cnn.load(name_weights='fc_trainmodel.h5',name_model='fc_trainmodel.json')\n",
        "print('Test of the CNN')\n",
        "test(agent_cnn,env,epochs_test,prefix='cnn_test')\n",
        "print('Test of the FC')\n",
        "test(agent_fc,env,epochs_test,prefix='fc_test')"
      ],
      "execution_count": 36,
      "outputs": [
        {
          "output_type": "stream",
          "text": [
            "Test of the CNN\n",
            "Win/lose count 3.5/2.0. Average score (1.5)\n",
            "Win/lose count 4.5/0. Average score (3.0)\n",
            "Win/lose count 10.5/1.0. Average score (5.166666666666667)\n",
            "Win/lose count 7.5/2.0. Average score (5.25)\n",
            "Win/lose count 3.0/2.0. Average score (4.4)\n",
            "Win/lose count 5.0/2.0. Average score (4.166666666666667)\n",
            "Win/lose count 2.0/0. Average score (3.857142857142857)\n",
            "Win/lose count 6.5/3.0. Average score (3.8125)\n",
            "Win/lose count 3.0/1.0. Average score (3.611111111111111)\n",
            "Win/lose count 9.0/2.0. Average score (3.95)\n",
            "Win/lose count 2.0/1.0. Average score (3.6818181818181817)\n",
            "Win/lose count 3.5/0. Average score (3.6666666666666665)\n",
            "Win/lose count 8.5/8.0. Average score (3.423076923076923)\n",
            "Win/lose count 4.5/3.0. Average score (3.2857142857142856)\n",
            "Win/lose count 3.0/2.0. Average score (3.1333333333333333)\n",
            "Final score: 3.1333333333333333\n",
            "Test of the FC\n",
            "Win/lose count 3.0/3.0. Average score (0.0)\n",
            "Win/lose count 6.0/2.0. Average score (2.0)\n",
            "Win/lose count 7.5/10.0. Average score (0.5)\n",
            "Win/lose count 3.0/4.0. Average score (0.125)\n",
            "Win/lose count 6.0/2.0. Average score (0.9)\n",
            "Win/lose count 2.0/1.0. Average score (0.9166666666666666)\n",
            "Win/lose count 3.5/5.0. Average score (0.5714285714285714)\n",
            "Win/lose count 5.0/4.0. Average score (0.625)\n",
            "Win/lose count 5.5/6.0. Average score (0.5)\n",
            "Win/lose count 5.0/8.0. Average score (0.15)\n",
            "Win/lose count 4.0/2.0. Average score (0.3181818181818182)\n",
            "Win/lose count 4.5/5.0. Average score (0.25)\n",
            "Win/lose count 2.0/4.0. Average score (0.07692307692307693)\n",
            "Win/lose count 2.5/5.0. Average score (-0.10714285714285714)\n",
            "Win/lose count 4.0/4.0. Average score (-0.1)\n",
            "Final score: -0.1\n"
          ],
          "name": "stdout"
        }
      ]
    },
    {
      "cell_type": "code",
      "metadata": {
        "id": "0oXFvgGzdLB6",
        "colab_type": "code",
        "outputId": "3dfbc45d-89f6-45ad-81b8-db1f99756ea5",
        "colab": {
          "base_uri": "https://localhost:8080/",
          "height": 293
        }
      },
      "source": [
        "HTML(display_videos('cnn_test10.mp4'))"
      ],
      "execution_count": 28,
      "outputs": [
        {
          "output_type": "execute_result",
          "data": {
            "text/html": [
              "<video alt=\"test\" controls>\n",
              "                <source src=\"data:video/mp4;base64,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\" type=\"video/mp4\" />\n",
              "             </video>"
            ],
            "text/plain": [
              "<IPython.core.display.HTML object>"
            ]
          },
          "metadata": {
            "tags": []
          },
          "execution_count": 28
        }
      ]
    },
    {
      "cell_type": "code",
      "metadata": {
        "id": "vufA8liWdLB8",
        "colab_type": "code",
        "outputId": "416b5d27-12cb-4336-e1a9-9aa22b718fcc",
        "colab": {
          "base_uri": "https://localhost:8080/",
          "height": 293
        }
      },
      "source": [
        "HTML(display_videos('fc_test10.mp4'))"
      ],
      "execution_count": 29,
      "outputs": [
        {
          "output_type": "execute_result",
          "data": {
            "text/html": [
              "<video alt=\"test\" controls>\n",
              "                <source src=\"data:video/mp4;base64,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\" type=\"video/mp4\" />\n",
              "             </video>"
            ],
            "text/plain": [
              "<IPython.core.display.HTML object>"
            ]
          },
          "metadata": {
            "tags": []
          },
          "execution_count": 29
        }
      ]
    },
    {
      "cell_type": "markdown",
      "metadata": {
        "id": "gybX2jGAdLB_",
        "colab_type": "text"
      },
      "source": [
        "**Comments:**\n",
        "\n",
        "* We observe that the agent doesn't explore the map very well and sometimes gets stuck in a position, when there is no positive reward within his visibility, especially for the agent with the fully connected network.\n",
        "\n",
        "* When we increase the temperature, positive rewards cells get numerous, which helps the agent explore the map since more positive cells gets in his visibility, and therefore the final average score gets higher.\n",
        "\n",
        "* The performance of CNN is better than that of Fully connected network (according to average score).\n"
      ]
    },
    {
      "cell_type": "markdown",
      "metadata": {
        "id": "TLwMWlJ-dLB_",
        "colab_type": "text"
      },
      "source": [
        "***\n",
        "\n",
        "The algorithm tends to not explore the map which can be an issue. We propose two ideas in order to encourage exploration:\n",
        "1. Incorporating a decreasing $\\epsilon$-greedy exploration. You can use the method ```set_epsilon```\n",
        "2. Append via the environment a new state that describes if a cell has been visited or not\n",
        "\n",
        "***\n",
        "__Question 10__ Design a new ```train_explore``` function and environment class ```EnvironmentExploring``` to tackle the issue of exploration.\n",
        "\n"
      ]
    },
    {
      "cell_type": "code",
      "metadata": {
        "id": "TbNcQCfadLCA",
        "colab_type": "code",
        "colab": {}
      },
      "source": [
        "def train_explore(agent,env,epoch,prefix=''):\n",
        "    # Number of won games\n",
        "    score = 0\n",
        "    loss = 0\n",
        "    \n",
        "    # Starting epsilon\n",
        "    epsilon_start = agent.epsilon\n",
        "    \n",
        "    # Minimum value that epsilon could get\n",
        "    epsilon_stop= 0.1\n",
        "\n",
        "    for e in range(epoch):\n",
        "        # At each epoch, we restart to a fresh game and get the initial state\n",
        "        state = env.reset()\n",
        "        # This assumes that the games will terminate\n",
        "        game_over = False\n",
        "\n",
        "        win = 0\n",
        "        lose = 0\n",
        "        \n",
        "        # Exponential decay for epsilon-greedy exploration\n",
        "        agent.set_epsilon((epsilon_start-epsilon_stop)*np.exp(-e/8) + epsilon_stop)\n",
        "\n",
        "        while not game_over:\n",
        "            # The agent performs an action\n",
        "            action = agent.act(state)\n",
        "\n",
        "            # Apply an action to the environment, get the next state, the reward\n",
        "            # and if the games end\n",
        "            prev_state = state\n",
        "            state, reward, game_over = env.act(action, train=True)\n",
        "\n",
        "            # Update the counters\n",
        "            if reward > 0:\n",
        "                win = win + reward\n",
        "            if reward < 0:\n",
        "                lose = lose -reward\n",
        "\n",
        "            # Apply the reinforcement strategy\n",
        "            loss = agent.reinforce(prev_state, state,  action, reward, game_over)\n",
        "\n",
        "        # Save as a mp4\n",
        "        if (e+1) % 10 == 0:\n",
        "            env.draw(prefix+str(e+1))\n",
        "\n",
        "        # Update stats\n",
        "        score += win-lose\n",
        "\n",
        "        print(\"Epoch {:03d}/{:03d} | Loss {:.4f} | Win/lose count {:.2f}/{:.2f} ({:.2f}) | Epsilon : {:.2f}\"\n",
        "              .format(e, epoch, loss, win, lose, win-lose, agent.epsilon))\n",
        "        agent.save(name_weights=prefix+'model.h5',name_model=prefix+'model.json')\n",
        "\n",
        "class EnvironmentExploring(object):\n",
        "    def __init__(self, grid_size=10, max_time=500, temperature=0.1):\n",
        "        grid_size = grid_size+4\n",
        "        self.grid_size = grid_size\n",
        "        self.max_time = max_time\n",
        "        self.temperature = temperature\n",
        "        \n",
        "        #board on which one plays\n",
        "        self.board = np.zeros((grid_size,grid_size))\n",
        "        self.position = np.zeros((grid_size,grid_size))\n",
        "        self.malus_position = np.zeros((grid_size,grid_size))\n",
        "        \n",
        "        # coordinate of the cat\n",
        "        self.x = 0\n",
        "        self.y = 1\n",
        "        \n",
        "        # self time\n",
        "        self.t = 0\n",
        "        \n",
        "        self.scale=16\n",
        "\n",
        "        self.to_draw = np.zeros((max_time+2, grid_size*self.scale, grid_size*self.scale, 3))\n",
        "\n",
        "\n",
        "    def draw(self,e):\n",
        "        skvideo.io.vwrite(str(e) + '.mp4', self.to_draw)\n",
        "\n",
        "    def get_frame(self,t):\n",
        "        b = np.zeros((self.grid_size,self.grid_size,3))+128\n",
        "        b[self.board>0,0] = 256\n",
        "        b[self.board < 0, 2] = 256\n",
        "        b[self.x,self.y,:]=256\n",
        "        b[-2:,:,:]=0\n",
        "        b[:,-2:,:]=0\n",
        "        b[:2,:,:]=0\n",
        "        b[:,:2,:]=0\n",
        "        \n",
        "        b =  cv2.resize(b, None, fx=self.scale, fy=self.scale, interpolation=cv2.INTER_NEAREST)\n",
        "\n",
        "        self.to_draw[t,:,:,:]=b\n",
        "\n",
        "\n",
        "    def act(self, action, train=False):\n",
        "        \"\"\"This function returns the new state, reward and decides if the\n",
        "        game ends.\"\"\"\n",
        "\n",
        "        self.get_frame(int(self.t))\n",
        "\n",
        "        self.position = np.zeros((self.grid_size, self.grid_size))\n",
        "\n",
        "        self.position[0:2,:]= -1\n",
        "        self.position[:,0:2] = -1\n",
        "        self.position[-2:, :] = -1\n",
        "        self.position[-2:, :] = -1\n",
        "\n",
        "        self.position[self.x, self.y] = 1\n",
        "        \n",
        "        if action == 0:\n",
        "            if self.x == self.grid_size-3:\n",
        "                self.x = self.x-1\n",
        "            else:\n",
        "                self.x = self.x + 1\n",
        "        elif action == 1:\n",
        "            if self.x == 2:\n",
        "                self.x = self.x+1\n",
        "            else:\n",
        "                self.x = self.x-1\n",
        "        elif action == 2:\n",
        "            if self.y == self.grid_size - 3:\n",
        "                self.y = self.y - 1\n",
        "            else:\n",
        "                self.y = self.y + 1\n",
        "        elif action == 3:\n",
        "            if self.y == 2:\n",
        "                self.y = self.y + 1\n",
        "            else:\n",
        "                self.y = self.y - 1\n",
        "        else:\n",
        "            RuntimeError('Error: action not recognized')\n",
        "            \n",
        "\n",
        "        self.malus_position[self.x, self.y] = 0.1 \n",
        "        self.t = self.t + 1\n",
        "        \n",
        "        reward = self.board[self.x, self.y] - int(train)*self.malus_position[self.x, self.y]\n",
        "        self.board[self.x, self.y] = 0\n",
        "\n",
        "        game_over = self.t > self.max_time\n",
        "        \n",
        "        state = np.concatenate((self.malus_position.reshape(self.grid_size, self.grid_size,1),\n",
        "                                self.board.reshape(self.grid_size, self.grid_size,1),\n",
        "                                self.position.reshape(self.grid_size, self.grid_size,1)),axis=2)  \n",
        "        \n",
        "        state = state[self.x-2:self.x+3,self.y-2:self.y+3,:]\n",
        "\n",
        "        return state, reward, game_over\n",
        "\n",
        "    def reset(self):\n",
        "        \"\"\"This function resets the game and returns the initial state\"\"\"\n",
        "\n",
        "        self.x = np.random.randint(3, self.grid_size-3, size=1)[0]\n",
        "        self.y = np.random.randint(3, self.grid_size-3, size=1)[0]\n",
        "\n",
        "        bonus = 0.5*np.random.binomial(1,self.temperature,size=self.grid_size**2)\n",
        "        bonus = bonus.reshape(self.grid_size,self.grid_size)\n",
        "\n",
        "        malus = -1.0*np.random.binomial(1,self.temperature,size=self.grid_size**2)\n",
        "        malus = malus.reshape(self.grid_size, self.grid_size)\n",
        "\n",
        "        self.to_draw = np.zeros((self.max_time+2, self.grid_size*self.scale, self.grid_size*self.scale, 3))\n",
        "\n",
        "        malus[bonus>0]=0\n",
        "\n",
        "        self.board = bonus + malus\n",
        "\n",
        "        self.position = np.zeros((self.grid_size, self.grid_size))\n",
        "        self.position[0:2,:]= -1\n",
        "        self.position[:,0:2] = -1\n",
        "        self.position[-2:, :] = -1\n",
        "        self.position[-2:, :] = -1\n",
        "        \n",
        "        self.malus_position = np.zeros((self.grid_size,self.grid_size))\n",
        "        self.malus_position[self.x, self.y] = 0.1\n",
        "        \n",
        "        self.board[self.x,self.y] = 0\n",
        "        self.t = 0\n",
        "\n",
        "        state = np.concatenate((self.malus_position.reshape(self.grid_size, self.grid_size,1),\n",
        "                                self.board.reshape(self.grid_size, self.grid_size,1),\n",
        "                                self.position.reshape(self.grid_size, self.grid_size,1)),axis=2) \n",
        "\n",
        "        state = state[self.x - 2:self.x + 3, self.y - 2:self.y + 3, :]\n",
        "        return state"
      ],
      "execution_count": 0,
      "outputs": []
    },
    {
      "cell_type": "code",
      "metadata": {
        "id": "vfKw_PfO8nUN",
        "colab_type": "code",
        "colab": {
          "base_uri": "https://localhost:8080/",
          "height": 1000
        },
        "outputId": "6c837482-09b7-4381-a4a1-de3fb6bb8393"
      },
      "source": [
        "# Parameters\n",
        "size = 13\n",
        "T=200\n",
        "temperature=0.3\n",
        "epochs_train=60\n",
        "epochs_test=15\n",
        "\n",
        "# Training\n",
        "env = EnvironmentExploring(grid_size=size, max_time=T, temperature=0.3)\n",
        "agent = DQN_CNN(size, lr=.1, epsilon = 0.7, memory_size=2000, batch_size = 32, n_state=3)\n",
        "train_explore(agent, env, epochs_train, prefix='cnn_train_explore')\n"
      ],
      "execution_count": 54,
      "outputs": [
        {
          "output_type": "stream",
          "text": [
            "Epoch 000/060 | Loss 0.0697 | Win/lose count 6.40/28.50 (-22.10) | Epsilon : 0.70\n",
            "Epoch 001/060 | Loss 0.2462 | Win/lose count 9.60/27.70 (-18.10) | Epsilon : 0.63\n",
            "Epoch 002/060 | Loss 0.2130 | Win/lose count 11.60/34.20 (-22.60) | Epsilon : 0.57\n",
            "Epoch 003/060 | Loss 0.7030 | Win/lose count 7.20/26.30 (-19.10) | Epsilon : 0.51\n",
            "Epoch 004/060 | Loss 0.2601 | Win/lose count 8.00/27.10 (-19.10) | Epsilon : 0.46\n",
            "Epoch 005/060 | Loss 0.2091 | Win/lose count 12.00/33.10 (-21.10) | Epsilon : 0.42\n",
            "Epoch 006/060 | Loss 0.2918 | Win/lose count 8.40/27.00 (-18.60) | Epsilon : 0.38\n",
            "Epoch 007/060 | Loss 1.2761 | Win/lose count 4.40/21.00 (-16.60) | Epsilon : 0.35\n",
            "Epoch 008/060 | Loss 0.5271 | Win/lose count 6.40/20.50 (-14.10) | Epsilon : 0.32\n",
            "Epoch 009/060 | Loss 0.5653 | Win/lose count 8.80/25.90 (-17.10) | Epsilon : 0.29\n",
            "Epoch 010/060 | Loss 1.0443 | Win/lose count 5.20/25.80 (-20.60) | Epsilon : 0.27\n",
            "Epoch 011/060 | Loss 1.3893 | Win/lose count 5.20/27.80 (-22.60) | Epsilon : 0.25\n",
            "Epoch 012/060 | Loss 0.5543 | Win/lose count 11.60/25.20 (-13.60) | Epsilon : 0.23\n",
            "Epoch 013/060 | Loss 0.7725 | Win/lose count 6.00/21.60 (-15.60) | Epsilon : 0.22\n",
            "Epoch 014/060 | Loss 0.5414 | Win/lose count 8.40/22.00 (-13.60) | Epsilon : 0.20\n",
            "Epoch 015/060 | Loss 0.6119 | Win/lose count 11.20/20.30 (-9.10) | Epsilon : 0.19\n",
            "Epoch 016/060 | Loss 0.8538 | Win/lose count 9.20/23.80 (-14.60) | Epsilon : 0.18\n",
            "Epoch 017/060 | Loss 0.2937 | Win/lose count 13.20/20.80 (-7.60) | Epsilon : 0.17\n",
            "Epoch 018/060 | Loss 0.1638 | Win/lose count 12.80/17.90 (-5.10) | Epsilon : 0.16\n",
            "Epoch 019/060 | Loss 0.0795 | Win/lose count 15.20/19.30 (-4.10) | Epsilon : 0.16\n",
            "Epoch 020/060 | Loss 1.5064 | Win/lose count 6.00/22.60 (-16.60) | Epsilon : 0.15\n",
            "Epoch 021/060 | Loss 0.2435 | Win/lose count 13.20/17.80 (-4.60) | Epsilon : 0.14\n",
            "Epoch 022/060 | Loss 0.1797 | Win/lose count 16.00/22.10 (-6.10) | Epsilon : 0.14\n",
            "Epoch 023/060 | Loss 0.5898 | Win/lose count 8.40/22.00 (-13.60) | Epsilon : 0.13\n",
            "Epoch 024/060 | Loss 0.2503 | Win/lose count 15.20/23.30 (-8.10) | Epsilon : 0.13\n",
            "Epoch 025/060 | Loss 0.1893 | Win/lose count 15.20/18.30 (-3.10) | Epsilon : 0.13\n",
            "Epoch 026/060 | Loss 0.5304 | Win/lose count 11.60/17.20 (-5.60) | Epsilon : 0.12\n",
            "Epoch 027/060 | Loss 0.0641 | Win/lose count 18.80/22.40 (-3.60) | Epsilon : 0.12\n",
            "Epoch 028/060 | Loss 0.0231 | Win/lose count 14.80/18.40 (-3.60) | Epsilon : 0.12\n",
            "Epoch 029/060 | Loss 0.5774 | Win/lose count 12.80/19.90 (-7.10) | Epsilon : 0.12\n",
            "Epoch 030/060 | Loss 1.2812 | Win/lose count 8.80/19.90 (-11.10) | Epsilon : 0.11\n",
            "Epoch 031/060 | Loss 0.4649 | Win/lose count 19.60/20.20 (-0.60) | Epsilon : 0.11\n",
            "Epoch 032/060 | Loss 0.2431 | Win/lose count 17.60/20.70 (-3.10) | Epsilon : 0.11\n",
            "Epoch 033/060 | Loss 0.0340 | Win/lose count 18.80/20.40 (-1.60) | Epsilon : 0.11\n",
            "Epoch 034/060 | Loss 0.2109 | Win/lose count 16.00/19.10 (-3.10) | Epsilon : 0.11\n",
            "Epoch 035/060 | Loss 0.1677 | Win/lose count 7.20/25.30 (-18.10) | Epsilon : 0.11\n",
            "Epoch 036/060 | Loss 0.1851 | Win/lose count 14.80/21.40 (-6.60) | Epsilon : 0.11\n",
            "Epoch 037/060 | Loss 0.1948 | Win/lose count 13.20/20.80 (-7.60) | Epsilon : 0.11\n",
            "Epoch 038/060 | Loss 0.1375 | Win/lose count 16.00/19.10 (-3.10) | Epsilon : 0.11\n",
            "Epoch 039/060 | Loss 0.5886 | Win/lose count 11.60/20.20 (-8.60) | Epsilon : 0.10\n",
            "Epoch 040/060 | Loss 0.0381 | Win/lose count 17.60/19.70 (-2.10) | Epsilon : 0.10\n",
            "Epoch 041/060 | Loss 0.0118 | Win/lose count 14.40/18.50 (-4.10) | Epsilon : 0.10\n",
            "Epoch 042/060 | Loss 0.0553 | Win/lose count 16.40/19.00 (-2.60) | Epsilon : 0.10\n",
            "Epoch 043/060 | Loss 0.3911 | Win/lose count 10.80/22.40 (-11.60) | Epsilon : 0.10\n",
            "Epoch 044/060 | Loss 0.2966 | Win/lose count 14.80/19.40 (-4.60) | Epsilon : 0.10\n",
            "Epoch 045/060 | Loss 1.1108 | Win/lose count 10.00/21.60 (-11.60) | Epsilon : 0.10\n",
            "Epoch 046/060 | Loss 1.5389 | Win/lose count 13.60/24.70 (-11.10) | Epsilon : 0.10\n",
            "Epoch 047/060 | Loss 1.2721 | Win/lose count 10.00/21.60 (-11.60) | Epsilon : 0.10\n",
            "Epoch 048/060 | Loss 0.0453 | Win/lose count 14.80/19.40 (-4.60) | Epsilon : 0.10\n",
            "Epoch 049/060 | Loss 0.6106 | Win/lose count 10.80/19.40 (-8.60) | Epsilon : 0.10\n",
            "Epoch 050/060 | Loss 0.0554 | Win/lose count 10.00/18.60 (-8.60) | Epsilon : 0.10\n",
            "Epoch 051/060 | Loss 1.4643 | Win/lose count 8.00/19.10 (-11.10) | Epsilon : 0.10\n",
            "Epoch 052/060 | Loss 1.0866 | Win/lose count 10.40/18.50 (-8.10) | Epsilon : 0.10\n",
            "Epoch 053/060 | Loss 0.6469 | Win/lose count 16.40/20.00 (-3.60) | Epsilon : 0.10\n",
            "Epoch 054/060 | Loss 1.7285 | Win/lose count 11.60/21.20 (-9.60) | Epsilon : 0.10\n",
            "Epoch 055/060 | Loss 0.5078 | Win/lose count 15.20/17.30 (-2.10) | Epsilon : 0.10\n",
            "Epoch 056/060 | Loss 1.3886 | Win/lose count 4.40/20.00 (-15.60) | Epsilon : 0.10\n",
            "Epoch 057/060 | Loss 1.4373 | Win/lose count 12.00/18.10 (-6.10) | Epsilon : 0.10\n",
            "Epoch 058/060 | Loss 2.1291 | Win/lose count 8.40/20.00 (-11.60) | Epsilon : 0.10\n",
            "Epoch 059/060 | Loss 0.8862 | Win/lose count 8.00/23.10 (-15.10) | Epsilon : 0.10\n"
          ],
          "name": "stdout"
        },
        {
          "output_type": "error",
          "ename": "FileNotFoundError",
          "evalue": "ignored",
          "traceback": [
            "\u001b[0;31m---------------------------------------------------------------------------\u001b[0m",
            "\u001b[0;31mFileNotFoundError\u001b[0m                         Traceback (most recent call last)",
            "\u001b[0;32m<ipython-input-54-706b0ca26981>\u001b[0m in \u001b[0;36m<module>\u001b[0;34m()\u001b[0m\n\u001b[1;32m      9\u001b[0m \u001b[0magent\u001b[0m \u001b[0;34m=\u001b[0m \u001b[0mDQN_CNN\u001b[0m\u001b[0;34m(\u001b[0m\u001b[0msize\u001b[0m\u001b[0;34m,\u001b[0m \u001b[0mlr\u001b[0m\u001b[0;34m=\u001b[0m\u001b[0;36m.1\u001b[0m\u001b[0;34m,\u001b[0m \u001b[0mepsilon\u001b[0m \u001b[0;34m=\u001b[0m \u001b[0;36m0.7\u001b[0m\u001b[0;34m,\u001b[0m \u001b[0mmemory_size\u001b[0m\u001b[0;34m=\u001b[0m\u001b[0;36m2000\u001b[0m\u001b[0;34m,\u001b[0m \u001b[0mbatch_size\u001b[0m \u001b[0;34m=\u001b[0m \u001b[0;36m32\u001b[0m\u001b[0;34m,\u001b[0m \u001b[0mn_state\u001b[0m\u001b[0;34m=\u001b[0m\u001b[0;36m3\u001b[0m\u001b[0;34m)\u001b[0m\u001b[0;34m\u001b[0m\u001b[0;34m\u001b[0m\u001b[0m\n\u001b[1;32m     10\u001b[0m \u001b[0mtrain_explore\u001b[0m\u001b[0;34m(\u001b[0m\u001b[0magent\u001b[0m\u001b[0;34m,\u001b[0m \u001b[0menv\u001b[0m\u001b[0;34m,\u001b[0m \u001b[0mepochs_train\u001b[0m\u001b[0;34m,\u001b[0m \u001b[0mprefix\u001b[0m\u001b[0;34m=\u001b[0m\u001b[0;34m'cnn_train_explore'\u001b[0m\u001b[0;34m)\u001b[0m\u001b[0;34m\u001b[0m\u001b[0;34m\u001b[0m\u001b[0m\n\u001b[0;32m---> 11\u001b[0;31m \u001b[0mHTML\u001b[0m\u001b[0;34m(\u001b[0m\u001b[0mdisplay_videos\u001b[0m\u001b[0;34m(\u001b[0m\u001b[0;34m'cnn_train_explore100.mp4'\u001b[0m\u001b[0;34m)\u001b[0m\u001b[0;34m)\u001b[0m\u001b[0;34m\u001b[0m\u001b[0;34m\u001b[0m\u001b[0m\n\u001b[0m",
            "\u001b[0;32m<ipython-input-6-72250302990b>\u001b[0m in \u001b[0;36mdisplay_videos\u001b[0;34m(name)\u001b[0m\n\u001b[1;32m      7\u001b[0m \u001b[0;31m# display videos\u001b[0m\u001b[0;34m\u001b[0m\u001b[0;34m\u001b[0m\u001b[0;34m\u001b[0m\u001b[0m\n\u001b[1;32m      8\u001b[0m \u001b[0;32mdef\u001b[0m \u001b[0mdisplay_videos\u001b[0m\u001b[0;34m(\u001b[0m\u001b[0mname\u001b[0m\u001b[0;34m)\u001b[0m\u001b[0;34m:\u001b[0m\u001b[0;34m\u001b[0m\u001b[0;34m\u001b[0m\u001b[0m\n\u001b[0;32m----> 9\u001b[0;31m     \u001b[0mvideo\u001b[0m \u001b[0;34m=\u001b[0m \u001b[0mio\u001b[0m\u001b[0;34m.\u001b[0m\u001b[0mopen\u001b[0m\u001b[0;34m(\u001b[0m\u001b[0mname\u001b[0m\u001b[0;34m,\u001b[0m \u001b[0;34m'r+b'\u001b[0m\u001b[0;34m)\u001b[0m\u001b[0;34m.\u001b[0m\u001b[0mread\u001b[0m\u001b[0;34m(\u001b[0m\u001b[0;34m)\u001b[0m\u001b[0;34m\u001b[0m\u001b[0;34m\u001b[0m\u001b[0m\n\u001b[0m\u001b[1;32m     10\u001b[0m     \u001b[0mencoded\u001b[0m \u001b[0;34m=\u001b[0m \u001b[0mbase64\u001b[0m\u001b[0;34m.\u001b[0m\u001b[0mb64encode\u001b[0m\u001b[0;34m(\u001b[0m\u001b[0mvideo\u001b[0m\u001b[0;34m)\u001b[0m\u001b[0;34m\u001b[0m\u001b[0;34m\u001b[0m\u001b[0m\n\u001b[1;32m     11\u001b[0m     return '''<video alt=\"test\" controls>\n",
            "\u001b[0;31mFileNotFoundError\u001b[0m: [Errno 2] No such file or directory: 'cnn_train_explore100.mp4'"
          ]
        }
      ]
    },
    {
      "cell_type": "code",
      "metadata": {
        "id": "EUr7XY49CgLK",
        "colab_type": "code",
        "colab": {
          "base_uri": "https://localhost:8080/",
          "height": 293
        },
        "outputId": "7987e81e-e48e-4ff6-c40f-b8e6e1ac85d6"
      },
      "source": [
        "HTML(display_videos('cnn_train_explore10.mp4'))"
      ],
      "execution_count": 55,
      "outputs": [
        {
          "output_type": "execute_result",
          "data": {
            "text/html": [
              "<video alt=\"test\" controls>\n",
              "                <source src=\"data:video/mp4;base64,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\" type=\"video/mp4\" />\n",
              "             </video>"
            ],
            "text/plain": [
              "<IPython.core.display.HTML object>"
            ]
          },
          "metadata": {
            "tags": []
          },
          "execution_count": 55
        }
      ]
    },
    {
      "cell_type": "code",
      "metadata": {
        "id": "Cbjo9YYRdLCD",
        "colab_type": "code",
        "colab": {
          "base_uri": "https://localhost:8080/",
          "height": 566
        },
        "outputId": "305c976b-d60e-4d76-a23c-4dfe3b016ceb"
      },
      "source": [
        "# Evaluation\n",
        "test(agent,env,epochs_test,prefix='cnn_test_explore')\n",
        "HTML(display_videos('cnn_test_explore10.mp4'))"
      ],
      "execution_count": 56,
      "outputs": [
        {
          "output_type": "stream",
          "text": [
            "Win/lose count 15.5/3.0. Average score (12.5)\n",
            "Win/lose count 9.5/3.0. Average score (9.5)\n",
            "Win/lose count 12.5/7.0. Average score (8.166666666666666)\n",
            "Win/lose count 7.0/4.0. Average score (6.875)\n",
            "Win/lose count 3.0/0. Average score (6.1)\n",
            "Win/lose count 8.5/3.0. Average score (6.0)\n",
            "Win/lose count 12.5/3.0. Average score (6.5)\n",
            "Win/lose count 9.5/0. Average score (6.875)\n",
            "Win/lose count 7.0/5.0. Average score (6.333333333333333)\n",
            "Win/lose count 8.0/3.0. Average score (6.2)\n",
            "Win/lose count 9.5/3.0. Average score (6.2272727272727275)\n",
            "Win/lose count 6.5/1.0. Average score (6.166666666666667)\n",
            "Win/lose count 9.0/1.0. Average score (6.3076923076923075)\n",
            "Win/lose count 5.5/1.0. Average score (6.178571428571429)\n",
            "Win/lose count 11.0/1.0. Average score (6.433333333333334)\n",
            "Final score: 6.433333333333334\n"
          ],
          "name": "stdout"
        },
        {
          "output_type": "execute_result",
          "data": {
            "text/html": [
              "<video alt=\"test\" controls>\n",
              "                <source src=\"data:video/mp4;base64,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\" type=\"video/mp4\" />\n",
              "             </video>"
            ],
            "text/plain": [
              "<IPython.core.display.HTML object>"
            ]
          },
          "metadata": {
            "tags": []
          },
          "execution_count": 56
        }
      ]
    },
    {
      "cell_type": "markdown",
      "metadata": {
        "id": "4Z-ONf5FCjlk",
        "colab_type": "text"
      },
      "source": [
        "**Comment:**\n",
        "\n",
        "We can see that the final score is larger than the original DQN_CNN and the rat can explore almost the total map and visit almost all cheese cells. One may add more epochs for training on order to get a better performance which means reduce the loses."
      ]
    },
    {
      "cell_type": "markdown",
      "metadata": {
        "id": "wK7bu9gbdLCE",
        "colab_type": "text"
      },
      "source": [
        "***\n",
        "***\n",
        "__BONUS question__ Use the expert DQN from the previous question to generate some winning games. Train a model that mimicks its behavior. Compare the performances."
      ]
    },
    {
      "cell_type": "code",
      "metadata": {
        "id": "zk-E8kqjCxBd",
        "colab_type": "code",
        "colab": {}
      },
      "source": [
        "def GenerateWinningGames(agent, env, epochs, memory_size):\n",
        "    \"\"\"\n",
        "    function to generate winning games by the expert DQN\n",
        "    returns a memory which stores all (state, next_state, action, reward, game_over) generated by the expert DQN\n",
        "    \"\"\"\n",
        "    # memory of winning games\n",
        "    memory = Memory(memory_size)\n",
        "    \n",
        "    # Number of won games\n",
        "    score = 0\n",
        "        \n",
        "    for e in range(epochs):\n",
        "        \n",
        "        ##### FILL IN HERE\n",
        "        # At each epoch, we restart to a fresh game and get the initial state\n",
        "        state = env.reset()\n",
        "        # This assumes that the games will end\n",
        "        game_over = False\n",
        "\n",
        "        win = 0\n",
        "        lose = 0\n",
        "        \n",
        "        while not game_over:\n",
        "            # The agent performs an action in \"test\" mode (train = False)\n",
        "            action = agent.act(state, train=False)\n",
        "\n",
        "            # Apply an action to the environment, get the next state, the reward\n",
        "            # and if the games end\n",
        "            prev_state = state\n",
        "            state, reward, game_over = env.act(action)\n",
        "            \n",
        "            m = [prev_state, state, action, reward, game_over]\n",
        "            memory.remember(m)\n",
        "\n",
        "            # Update the counters\n",
        "            if reward > 0:\n",
        "                win = win + reward\n",
        "            if reward < 0:\n",
        "                lose = lose - reward\n",
        "\n",
        "        # Update stats\n",
        "        score = score + win - lose\n",
        "        \n",
        "        if e % 10 == 0:\n",
        "            print(\"Game {}: Win/lose count {}/{}. Average score ({})\"\n",
        "                  .format(e+1, win, lose, score/(1+e)))\n",
        "    \n",
        "    return memory"
      ],
      "execution_count": 0,
      "outputs": []
    },
    {
      "cell_type": "code",
      "metadata": {
        "id": "dMiixpzZDDn_",
        "colab_type": "code",
        "colab": {}
      },
      "source": [
        "\"\"\"\n",
        "  define the agent Mimic_DQN which takes the memory generated by the expert DQN as a parameter. \n",
        "  And during training, it gets random samples from this memory.\n",
        "  Different from DQN, it does not update the memory by its own (state, action) experience as it just mimicks the DQN.\n",
        "\"\"\"\n",
        "class Mimic_DQN(Agent):\n",
        "    def __init__(self, grid_size, memory, epsilon = 0.1, batch_size = 16, n_state=2):\n",
        "        super(Mimic_DQN, self).__init__(epsilon = epsilon)\n",
        "\n",
        "        # Discount for Q learning\n",
        "        self.discount = 0.99\n",
        "        \n",
        "        self.grid_size = grid_size\n",
        "        \n",
        "        # number of state\n",
        "        self.n_state = n_state\n",
        "\n",
        "        # Memory\n",
        "        self.memory = memory\n",
        "        \n",
        "        # Batch size when learning\n",
        "        self.batch_size = batch_size\n",
        "\n",
        "    def learned_act(self, s):\n",
        "        # predict the Q function by the current model and take the action which maximizes the Q function\n",
        "        q = self.model.predict(s.reshape((1, 5, 5, self.n_state)))\n",
        "        a = np.argmax(q)\n",
        "        return a\n",
        "\n",
        "    def reinforce(self, s_, n_s_, a_, r_, game_over_):\n",
        "        # Two steps: first memorize the states, second learn from the pool\n",
        "#         self.memory.remember([s_, n_s_, a_, r_, game_over_])\n",
        "        \n",
        "        input_states = np.zeros((self.batch_size, 5, 5, self.n_state))\n",
        "        target_q = np.zeros((self.batch_size, 4))\n",
        "        \n",
        "        for i in range(self.batch_size):\n",
        "            ######## FILL IN\n",
        "            # randomly take a sample from memory\n",
        "            m = self.memory.random_access()\n",
        "            s = m[0].reshape((1, 5, 5, self.n_state))\n",
        "            n_s = m[1].reshape((1, 5, 5, self.n_state))\n",
        "            a = m[2]\n",
        "            r = m[3]\n",
        "            game_over = m[4]\n",
        "            # store the state as a sample in the batch and predict the Q function by the current model\n",
        "            input_states[i] = s\n",
        "            target_q[i] = self.model.predict(s)\n",
        "            \n",
        "            # change target_q[i, a] to the estimated value in the two cases whether the game is over\n",
        "            if game_over:\n",
        "                ######## FILL IN\n",
        "                target_q[i, a] = r\n",
        "            else:\n",
        "                ######## FILL IN\n",
        "                target_q[i, a] = r + self.discount * np.max(self.model.predict(n_s))\n",
        "        ######## FILL IN\n",
        "        # HINT: Clip the target to avoid exploiding gradients.. -- clipping is a bit tighter\n",
        "        target_q = np.clip(target_q, -3, 3)\n",
        "\n",
        "        l = self.model.train_on_batch(input_states, target_q)\n",
        "\n",
        "        return l\n",
        "    def save(self,name_weights='model.h5',name_model='model.json'):\n",
        "        self.model.save_weights(name_weights, overwrite=True)\n",
        "        with open(name_model, \"w\") as outfile:\n",
        "            json.dump(self.model.to_json(), outfile)\n",
        "            \n",
        "    def load(self,name_weights='model.h5',name_model='model.json'):\n",
        "        with open(name_model, \"r\") as jfile:\n",
        "            model = model_from_json(json.load(jfile))\n",
        "        model.load_weights(name_weights)\n",
        "        model.compile(\"sgd\", \"mse\")\n",
        "        self.model = model\n",
        "\n",
        "            \n",
        "class Mimic_DQN_CNN(Mimic_DQN):\n",
        "    def __init__(self, *args,lr=0.1,**kwargs):\n",
        "        super(Mimic_DQN_CNN, self).__init__(*args,**kwargs)\n",
        "        \n",
        "        # design a CNN network with 2 conv layers of 16 and 32 filters and 1 fully connected layer\n",
        "        \n",
        "        ###### FILL IN\n",
        "        model = keras.Sequential()\n",
        "        model.add(Conv2D(16, kernel_size=(3, 3), padding='same', activation='relu', input_shape=(5, 5, self.n_state)))\n",
        "        model.add(Conv2D(32, kernel_size=(3, 3), padding='same', activation='relu'))\n",
        "        model.add(keras.layers.Flatten())\n",
        "        model.add(Dense(4))\n",
        "        \n",
        "        model.compile(sgd(lr=lr, decay=1e-4, momentum=0.0), \"mse\")\n",
        "        self.model = model"
      ],
      "execution_count": 0,
      "outputs": []
    },
    {
      "cell_type": "code",
      "metadata": {
        "id": "vKXcKorDDqHY",
        "colab_type": "code",
        "colab": {}
      },
      "source": [
        "epochs_gen = 100\n",
        "memory_size = T * epochs_gen\n",
        "epsilon = 0.1"
      ],
      "execution_count": 0,
      "outputs": []
    },
    {
      "cell_type": "code",
      "metadata": {
        "id": "KJGMsS8hDsfK",
        "colab_type": "code",
        "colab": {
          "base_uri": "https://localhost:8080/",
          "height": 187
        },
        "outputId": "478b4ab9-8582-4cc0-f90e-6aa742f2ebb6"
      },
      "source": [
        "memory = GenerateWinningGames(agent, env, epochs_gen, memory_size)"
      ],
      "execution_count": 62,
      "outputs": [
        {
          "output_type": "stream",
          "text": [
            "Game 1: Win/lose count 4.0/0. Average score (4.0)\n",
            "Game 11: Win/lose count 2.0/0. Average score (5.0)\n",
            "Game 21: Win/lose count 4.0/0. Average score (4.761904761904762)\n",
            "Game 31: Win/lose count 6.5/0. Average score (5.032258064516129)\n",
            "Game 41: Win/lose count 2.0/0. Average score (4.719512195121951)\n",
            "Game 51: Win/lose count 1.5/0. Average score (4.5588235294117645)\n",
            "Game 61: Win/lose count 11.5/0. Average score (4.663934426229508)\n",
            "Game 71: Win/lose count 10.0/0. Average score (4.753521126760563)\n",
            "Game 81: Win/lose count 5.5/0. Average score (4.839506172839506)\n",
            "Game 91: Win/lose count 6.0/0. Average score (4.9010989010989015)\n"
          ],
          "name": "stdout"
        }
      ]
    },
    {
      "cell_type": "code",
      "metadata": {
        "id": "-4XKTZh2DxG8",
        "colab_type": "code",
        "colab": {
          "base_uri": "https://localhost:8080/",
          "height": 1000
        },
        "outputId": "67d5ff07-2eec-47db-8908-af416fbfaad6"
      },
      "source": [
        "# Training\n",
        "env = EnvironmentExploring(grid_size=size, max_time=T, temperature=temperature)\n",
        "mimic_agent = Mimic_DQN_CNN(size, lr=0.1, memory=memory, epsilon = epsilon, batch_size = 32,n_state=3)\n",
        "train(mimic_agent, env, epochs_train, prefix='mimic_cnn_train_explore')\n",
        "HTML(display_videos('mimic_cnn_train_explore10.mp4'))"
      ],
      "execution_count": 65,
      "outputs": [
        {
          "output_type": "stream",
          "text": [
            "Epoch 000/060 | Loss 0.0034 | Win/lose count 3.0/5.0 (-2.0)\n",
            "Epoch 001/060 | Loss 0.0015 | Win/lose count 8.0/1.0 (7.0)\n",
            "Epoch 002/060 | Loss 0.0005 | Win/lose count 3.0/7.0 (-4.0)\n",
            "Epoch 003/060 | Loss 0.0009 | Win/lose count 3.0/4.0 (-1.0)\n",
            "Epoch 004/060 | Loss 0.0004 | Win/lose count 7.0/6.0 (1.0)\n",
            "Epoch 005/060 | Loss 0.0620 | Win/lose count 6.0/9.0 (-3.0)\n",
            "Epoch 006/060 | Loss 0.0016 | Win/lose count 7.5/3.0 (4.5)\n",
            "Epoch 007/060 | Loss nan | Win/lose count 2.5/8.0 (-5.5)\n",
            "Epoch 008/060 | Loss nan | Win/lose count 2.0/5.0 (-3.0)\n",
            "Epoch 009/060 | Loss nan | Win/lose count 1.5/1.0 (0.5)\n",
            "Epoch 010/060 | Loss nan | Win/lose count 1.5/4.0 (-2.5)\n",
            "Epoch 011/060 | Loss nan | Win/lose count 2.0/1.0 (1.0)\n",
            "Epoch 012/060 | Loss nan | Win/lose count 0.5/2.0 (-1.5)\n",
            "Epoch 013/060 | Loss nan | Win/lose count 3.5/1.0 (2.5)\n",
            "Epoch 014/060 | Loss nan | Win/lose count 1.0/4.0 (-3.0)\n",
            "Epoch 015/060 | Loss nan | Win/lose count 2.5/6.0 (-3.5)\n",
            "Epoch 016/060 | Loss nan | Win/lose count 2.5/2.0 (0.5)\n",
            "Epoch 017/060 | Loss nan | Win/lose count 1.5/4.0 (-2.5)\n",
            "Epoch 018/060 | Loss nan | Win/lose count 2.0/3.0 (-1.0)\n",
            "Epoch 019/060 | Loss nan | Win/lose count 2.0/4.0 (-2.0)\n",
            "Epoch 020/060 | Loss nan | Win/lose count 5.0/3.0 (2.0)\n",
            "Epoch 021/060 | Loss nan | Win/lose count 1.5/4.0 (-2.5)\n",
            "Epoch 022/060 | Loss nan | Win/lose count 2.5/5.0 (-2.5)\n",
            "Epoch 023/060 | Loss nan | Win/lose count 2.5/5.0 (-2.5)\n",
            "Epoch 024/060 | Loss nan | Win/lose count 3.0/2.0 (1.0)\n",
            "Epoch 025/060 | Loss nan | Win/lose count 4.0/4.0 (0.0)\n",
            "Epoch 026/060 | Loss nan | Win/lose count 4.5/2.0 (2.5)\n",
            "Epoch 027/060 | Loss nan | Win/lose count 2.5/2.0 (0.5)\n",
            "Epoch 028/060 | Loss nan | Win/lose count 2.0/3.0 (-1.0)\n",
            "Epoch 029/060 | Loss nan | Win/lose count 1.5/2.0 (-0.5)\n",
            "Epoch 030/060 | Loss nan | Win/lose count 3.0/8.0 (-5.0)\n",
            "Epoch 031/060 | Loss nan | Win/lose count 3.5/6.0 (-2.5)\n",
            "Epoch 032/060 | Loss nan | Win/lose count 2.0/0 (2.0)\n",
            "Epoch 033/060 | Loss nan | Win/lose count 3.0/3.0 (0.0)\n",
            "Epoch 034/060 | Loss nan | Win/lose count 2.0/3.0 (-1.0)\n",
            "Epoch 035/060 | Loss nan | Win/lose count 2.5/7.0 (-4.5)\n",
            "Epoch 036/060 | Loss nan | Win/lose count 1.5/4.0 (-2.5)\n",
            "Epoch 037/060 | Loss nan | Win/lose count 1.0/4.0 (-3.0)\n",
            "Epoch 038/060 | Loss nan | Win/lose count 2.5/0 (2.5)\n",
            "Epoch 039/060 | Loss nan | Win/lose count 1.0/0 (1.0)\n",
            "Epoch 040/060 | Loss nan | Win/lose count 2.0/2.0 (0.0)\n",
            "Epoch 041/060 | Loss nan | Win/lose count 2.0/3.0 (-1.0)\n",
            "Epoch 042/060 | Loss nan | Win/lose count 2.0/5.0 (-3.0)\n",
            "Epoch 043/060 | Loss nan | Win/lose count 1.5/2.0 (-0.5)\n",
            "Epoch 044/060 | Loss nan | Win/lose count 1.0/3.0 (-2.0)\n",
            "Epoch 045/060 | Loss nan | Win/lose count 2.0/2.0 (0.0)\n",
            "Epoch 046/060 | Loss nan | Win/lose count 4.0/2.0 (2.0)\n",
            "Epoch 047/060 | Loss nan | Win/lose count 1.5/0 (1.5)\n",
            "Epoch 048/060 | Loss nan | Win/lose count 2.5/3.0 (-0.5)\n",
            "Epoch 049/060 | Loss nan | Win/lose count 2.0/2.0 (0.0)\n",
            "Epoch 050/060 | Loss nan | Win/lose count 4.0/2.0 (2.0)\n",
            "Epoch 051/060 | Loss nan | Win/lose count 2.0/0 (2.0)\n",
            "Epoch 052/060 | Loss nan | Win/lose count 3.5/4.0 (-0.5)\n",
            "Epoch 053/060 | Loss nan | Win/lose count 1.5/3.0 (-1.5)\n",
            "Epoch 054/060 | Loss nan | Win/lose count 1.5/6.0 (-4.5)\n",
            "Epoch 055/060 | Loss nan | Win/lose count 2.5/3.0 (-0.5)\n",
            "Epoch 056/060 | Loss nan | Win/lose count 3.0/6.0 (-3.0)\n",
            "Epoch 057/060 | Loss nan | Win/lose count 1.0/3.0 (-2.0)\n",
            "Epoch 058/060 | Loss nan | Win/lose count 1.5/3.0 (-1.5)\n",
            "Epoch 059/060 | Loss nan | Win/lose count 3.0/4.0 (-1.0)\n"
          ],
          "name": "stdout"
        },
        {
          "output_type": "execute_result",
          "data": {
            "text/html": [
              "<video alt=\"test\" controls>\n",
              "                <source src=\"data:video/mp4;base64,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\" type=\"video/mp4\" />\n",
              "             </video>"
            ],
            "text/plain": [
              "<IPython.core.display.HTML object>"
            ]
          },
          "metadata": {
            "tags": []
          },
          "execution_count": 65
        }
      ]
    },
    {
      "cell_type": "code",
      "metadata": {
        "id": "zvfa6BkYD1Lj",
        "colab_type": "code",
        "colab": {
          "base_uri": "https://localhost:8080/",
          "height": 566
        },
        "outputId": "5a3c7e09-8587-4552-9d11-5dfc061a6613"
      },
      "source": [
        "test(mimic_agent,env,epochs_test,prefix='mimic_cnn_test_explore')\n",
        "HTML(display_videos('mimic_cnn_test_explore10.mp4'))"
      ],
      "execution_count": 66,
      "outputs": [
        {
          "output_type": "stream",
          "text": [
            "Win/lose count 3.0/1.0. Average score (2.0)\n",
            "Win/lose count 4.0/3.0. Average score (1.5)\n",
            "Win/lose count 2.5/5.0. Average score (0.16666666666666666)\n",
            "Win/lose count 2.5/4.0. Average score (-0.25)\n",
            "Win/lose count 0.5/2.0. Average score (-0.5)\n",
            "Win/lose count 3.0/1.0. Average score (-0.08333333333333333)\n",
            "Win/lose count 1.0/4.0. Average score (-0.5)\n",
            "Win/lose count 2.5/3.0. Average score (-0.5)\n",
            "Win/lose count 1.0/4.0. Average score (-0.7777777777777778)\n",
            "Win/lose count 1.0/6.0. Average score (-1.2)\n",
            "Win/lose count 1.5/8.0. Average score (-1.6818181818181819)\n",
            "Win/lose count 1.5/5.0. Average score (-1.8333333333333333)\n",
            "Win/lose count 1.5/2.0. Average score (-1.7307692307692308)\n",
            "Win/lose count 3.0/3.0. Average score (-1.6071428571428572)\n",
            "Win/lose count 2.0/6.0. Average score (-1.7666666666666666)\n",
            "Final score: -1.7666666666666666\n"
          ],
          "name": "stdout"
        },
        {
          "output_type": "execute_result",
          "data": {
            "text/html": [
              "<video alt=\"test\" controls>\n",
              "                <source src=\"data:video/mp4;base64,AAAAIGZ0eXBpc29tAAACAGlzb21pc28yYXZjMW1wNDEAAAAIZnJlZQAAFlxtZGF0AAACrQYF//+p3EXpvebZSLeWLNgg2SPu73gyNjQgLSBjb3JlIDE1MiByMjg1NCBlOWE1OTAzIC0gSC4yNjQvTVBFRy00IEFWQyBjb2RlYyAtIENvcHlsZWZ0IDIwMDMtMjAxNyAtIGh0dHA6Ly93d3cudmlkZW9sYW4ub3JnL3gyNjQuaHRtbCAtIG9wdGlvbnM6IGNhYmFjPTEgcmVmPTMgZGVibG9jaz0xOjA6MCBhbmFseXNlPTB4MToweDExMSBtZT1oZXggc3VibWU9NyBwc3k9MSBwc3lfcmQ9MS4wMDowLjAwIG1peGVkX3JlZj0xIG1lX3JhbmdlPTE2IGNocm9tYV9tZT0xIHRyZWxsaXM9MSA4eDhkY3Q9MCBjcW09MCBkZWFkem9uZT0yMSwxMSBmYXN0X3Bza2lwPTEgY2hyb21hX3FwX29mZnNldD00IHRocmVhZHM9MyBsb29rYWhlYWRfdGhyZWFkcz0xIHNsaWNlZF90aHJlYWRzPTAgbnI9MCBkZWNpbWF0ZT0xIGludGVybGFjZWQ9MCBibHVyYXlfY29tcGF0PTAgY29uc3RyYWluZWRfaW50cmE9MCBiZnJhbWVzPTMgYl9weXJhbWlkPTIgYl9hZGFwdD0xIGJfYmlhcz0wIGRpcmVjdD0xIHdlaWdodGI9MSBvcGVuX2dvcD0wIHdlaWdodHA9MiBrZXlpbnQ9MjUwIGtleWludF9taW49MjUgc2NlbmVjdXQ9NDAgaW50cmFfcmVmcmVzaD0wIHJjX2xvb2thaGVhZD00MCByYz1jcmYgbWJ0cmVlPTEgY3JmPTIzLjAgcWNvbXA9MC42MCBxcG1pbj0wIHFwbWF4PTY5IHFwc3RlcD00IGlwX3JhdGlvPTEuNDAgYXE9MToxLjAwAIAAAAKcZYiEADP//vaG+BTYUyP+T7/8I/+5H7cfWfrixkIJvrVeQ9GAMl8a/5lGYaXpyc8t7R+vTNAEZz6HlLJIofgUkwDfMsjnE4qnMdlqeZ/wlkCKwEsc5pNzco/VMWi0z3vllYGenaM4E1RoJz7w+sJrjY9LdIhp18xym8prcW8PRGifpzCcLfwf8KTgI/9kT5tv9dZyBg2cm6LAGDPUXCQc8q/R8hangjM/F3JFTKkpPuISio9sXHEqd1+d6yEGvs5XIMAnCcghntEnJgPtF+hZvs/APfpmXWEbPA+96i8Cqr7D6w73wfDOWLNmUI/23fhEs94BV+SZkVzzCZN2zze3JW4CcEFC/+p1jnEI6sLSPD2JwH2N3YUY7kSIiQ/SHmRuxYd2IDF1nJXxdf3kiK8Xln8vRBRPY/P1Yi9/KP22NaSnwc1QMn6xdDTlV3MwKCf4huQfU2IHFb07hRJLo3rSRQODapamSrNShEdToExTIyvtFydylIufjYM8TEqOJ72dGpPUq44smNUBoBFmOK2eP3Y2zCTZufH+1RegbsSjN4EC0KufVgLbp0wi6BTDAlO9gtxbzvat3KAKsZZdxtec+AbyRtbGGeshwt/5vSgzdUvlz9wFetIdJLHKt6N2NL93+Tt9McwaulJLhi9CKBz3I6dhwwNmXPzVCRJ7RbaJcyoxz2wykq+cTVJX5A8nkNmhv2RvUB58Dbw6alF58+RAC/a14pm7QnZADy2pLPm2rKe8ReSrl2yXoHRnae7S7Rt8U/2wxnZEMZqYGd1y8L4CoobDXBIDk58UOTlIuKKKiUhUJFid6jUC9PeEeoZQxpV9E37x3jweBTfhDZ4YHFU46gQ+1DRiD+KhhvCe79ploh8/25BUikZ2+zTwAQcAAAAUQZohbEN//qeEAZHx0+m5rdBu7oAAAAAYQZpCPCGTKYQ3//6nhADy+wf4Tgt0JF3BAAAAIEGaZknhDyZTAhn//p4QAm3xD/BYA5EuvZ1zLLPn11xUAAAAFEGehEURPC//AF+EUi7425SMGr11AAAAEAGeo3RCvwB++KLgPyf/rdEAAAAQAZ6lakK/ADdJWxYawySWkQAAABpBmqdJqEFomUwIb//+p4QALH7qfqONCQ5LwQAAAB1BmslJ4QpSZTBREsN//qeEABxvYP8tdLc4Jon2DAAAABABnuhqQr8AF0bcirwBQEmAAAAAGUGa6knhDomUwIb//qeEAAv/sH+E4LdCtsEAAAAZQZsLSeEPJlMCHf/+qZYAA9XtL+d0hTCfMAAAABFBmy9J4Q8mUwIb//6nhAABJwAAAAxBn01FETwv/wAAsoEAAAAQAZ9sdEK/AAPuob2XVfxbQQAAABABn25qQr8AA+6hvYrR92NBAAAAGUGbckmoQWiZTAhv//6nhAAE/91OP8Pq3JsAAAAPQZ+QRREsK/8AA/gK4epgAAAAEAGfsWpCvwAD2LAN7PH3ZkEAAAATQZu0SahBbJlMFEw3//6nhAABJwAAABABn9NqQr8AA9iwDezx92ZAAAAAEkGb1knhClJlMFLDf/6nhAABJwAAABABn/VqQr8AA9iwDezx92ZAAAAAEkGb+EnhDomUwUTDf/6nhAABJwAAABABnhdqQr8AA9iwDezx92ZBAAAAEkGaGknhDyZTBTw3//6nhAABJwAAABABnjlqQr8AA9iwDezx92ZBAAAAEkGaPEnhDyZTBTw3//6nhAABJwAAABABnltqQr8AA9iwDezx92ZBAAAAEkGaXknhDyZTBTw3//6nhAABJwAAABABnn1qQr8AA9iwDezx92ZAAAAAEkGaYEnhDyZTBTw3//6nhAABJwAAABABnp9qQr8AA9iwDezx92ZBAAAAEkGagknhDyZTBTw3//6nhAABJwAAABABnqFqQr8AA9iwDezx92ZBAAAAEkGapEnhDyZTBTw3//6nhAABJwAAABABnsNqQr8AA9iwDezx92ZBAAAAEkGaxknhDyZTBTw3//6nhAABJwAAABABnuVqQr8AA9iwDezx92ZBAAAAEkGa6EnhDyZTBTw3//6nhAABJwAAABABnwdqQr8AA9iwDezx92ZAAAAAEkGbCknhDyZTBTw3//6nhAABJwAAABABnylqQr8AA9iwDezx92ZBAAAAEkGbLEnhDyZTBTw3//6nhAABJwAAABABn0tqQr8AA9iwDezx92ZAAAAAEkGbTknhDyZTBTw3//6nhAABJwAAABABn21qQr8AA9iwDezx92ZBAAAAEkGbcEnhDyZTBTw3//6nhAABJwAAABABn49qQr8AA9iwDezx92ZAAAAAEkGbkknhDyZTBTw3//6nhAABJwAAABABn7FqQr8AA9iwDezx92ZBAAAAEkGbtEnhDyZTBTw3//6nhAABJwAAABABn9NqQr8AA9iwDezx92ZAAAAAGEGb10nhDyZTAhv//qeEAATb6OaCtZlOdQAAABJBn/VFETwr/wAD4gwCAUwDxWAAAAAOAZ4WakK/AAPjX6R7oV8AAAAcQZoaSahBaJlMCG///qeEAAS746Y/w+rbMFbvYQAAABBBnjhFESwr/wADzArhgDzQAAAAEAGeWWpCvwADrLAN7PH3bYEAAAATQZpcSahBbJlMFEw3//6nhAABJwAAABABnntqQr8AA6ywDezx922BAAAAE0GafknhClJlMFLDv/6plgAAlYEAAAAQAZ6dakK/AAOssA3s8fdtgAAAABtBmoJJ4Q6JlMCHf/6plgACU/Rz8zQqBaKYiWYAAAAQQZ6gRRU8L/8AAsTLFQhGkQAAABABnt90Qr8AA7XFmeV+SnoIAAAADwGewWpCvwADzGodC0chwQAAACdBmsZJqEFomUwIb//+p4QABNvkiucyyue8fgUqWz8CmdgYu3nW6ZEAAAAQQZ7kRREsL/8AAujLBPkbwQAAAA8BnwN0Qr8AA+MYeUNAzukAAAAPAZ8FakK/AAPjYEuV/mHBAAAAE0GbCEmoQWyZTBRMN//+p4QAAScAAAAQAZ8nakK/AAPYsA3s8fdmQAAAABJBmypJ4QpSZTBSw3/+p4QAAScAAAAQAZ9JakK/AAPYsA3s8fdmQQAAABJBm0xJ4Q6JlMFEw3/+p4QAAScAAAAQAZ9rakK/AAPYsA3s8fdmQAAAABJBm25J4Q8mUwU8N//+p4QAAScAAAAQAZ+NakK/AAPYsA3s8fdmQQAAABJBm5BJ4Q8mUwU8N//+p4QAAScAAAAQAZ+vakK/AAPYsA3s8fdmQAAAABJBm7JJ4Q8mUwU8N//+p4QAAScAAAAQAZ/RakK/AAPYsA3s8fdmQQAAABJBm9RJ4Q8mUwU8N//+p4QAAScAAAAQAZ/zakK/AAPYsA3s8fdmQAAAABJBm/ZJ4Q8mUwU8N//+p4QAAScAAAAQAZ4VakK/AAPYsA3s8fdmQAAAABNBmhhJ4Q8mUwU8O//+qZYAAJWBAAAAEAGeN2pCvwAD2LAN7PH3ZkEAAAATQZo6SeEPJlMFPDv//qmWAACVgAAAABABnllqQr8AA9iwDezx92ZBAAAAG0GaXknhDyZTAh3//qmWAAJz9HPy7PahZCl1UQAAABBBnnxFETwv/wAC6UCClD3JAAAADwGem3RCvwAD4l+LgPz/wQAAABABnp1qQr8AA+ILznWhhiZAAAAAE0GagkmoQWiZTAh3//6plgAAlYAAAAAMQZ6gRREsL/8AALKBAAAAEAGe33RCvwADzWKxefwOn8AAAAAQAZ7BakK/AAPMahz/Mt5kQQAAABJBmsZJqEFsmUwIb//+p4QAAScAAAAMQZ7kRRUsL/8AALKBAAAAEAGfA3RCvwADzWKxefwOn8EAAAAQAZ8FakK/AAPMahz/Mt5kQQAAABpBmwlJqEFsmUwIb//+p4QABLUAWbbZ9n0bQQAAAA9BnydFFSwr/wADzA/52iAAAAANAZ9IakK/AAPNYFA3DgAAABlBm0xJqEFsmUwIb//+p4QABLvjpj/D6tytAAAAD0GfakUVLCv/AAPMCuHtwAAAAA8Bn4tqQr8AA7dgS5X+ZsAAAAAUQZuOSahBbJlMFEw7//6plgAAlYEAAAAQAZ+takK/AAOssA3s8fdtgQAAABNBm7BJ4QpSZTBSw7/+qZYAAJWBAAAAEAGfz2pCvwADrLAN7PH3bYAAAAAdQZvUSeEOiZTAh3/+qZYAAlP0ugcP9iwHRAtxjlYAAAAQQZ/yRRU8L/8AAsTLFQhGkQAAABABnhF0Qr8AA7XFmeV+SnoIAAAADwGeE2pCvwADzGodC0chwAAAABNBmhhJqEFomUwId//+qZYAAJWBAAAADEGeNkURLC//AACygAAAABABnlV0Qr8AA81isXn8Dp/BAAAAEAGeV2pCvwADzGoc/zLeZEEAAAATQZpcSahBbJlMCHf//qmWAACVgAAAAAxBnnpFFSwv/wAAsoEAAAAQAZ6ZdEK/AAPNYrF5/A6fwAAAABABnptqQr8AA8xqHP8y3mRBAAAAE0GagEmoQWyZTAh3//6plgAAlYEAAAAMQZ6+RRUsL/8AALKAAAAAEAGe3XRCvwADzWKxefwOn8AAAAAQAZ7fakK/AAPMahz/Mt5kQQAAABNBmsRJqEFsmUwId//+qZYAAJWAAAAADEGe4kUVLC//AACygQAAABABnwF0Qr8AA81isXn8Dp/AAAAAEAGfA2pCvwADzGoc/zLeZEEAAAATQZsISahBbJlMCHf//qmWAACVgQAAAAxBnyZFFSwv/wAAsoEAAAAQAZ9FdEK/AAPNYrF5/A6fwQAAABABn0dqQr8AA8xqHP8y3mRAAAAAE0GbTEmoQWyZTAh3//6plgAAlYAAAAAMQZ9qRRUsL/8AALKBAAAAEAGfiXRCvwADzWKxefwOn8AAAAAQAZ+LakK/AAPMahz/Mt5kQAAAABNBm5BJqEFsmUwId//+qZYAAJWBAAAADEGfrkUVLC//AACygQAAABABn810Qr8AA81isXn8Dp/BAAAAEAGfz2pCvwADzGoc/zLeZEAAAAASQZvUSahBbJlMCG///qeEAAEnAAAADEGf8kUVLC//AACygQAAABABnhF0Qr8AA81isXn8Dp/AAAAAEAGeE2pCvwADzGoc/zLeZEAAAAASQZoYSahBbJlMCG///qeEAAEnAAAADEGeNkUVLC//AACygAAAABABnlV0Qr8AA81isXn8Dp/BAAAAEAGeV2pCvwADzGoc/zLeZEEAAAAaQZpZSahBbJlMCG///qeEAAS1AFm22fZ9G0AAAAAYQZp8SeEKUmUwIb/+p4QABNR8x5GJ/lyjAAAAD0GemkU0TCv/AAPiCuHrwAAAAA8BnrtqQr8AA+NgS5X+YcEAAAASQZq+SahBaJlMFPDf/qeEAAEnAAAAEAGe3WpCvwAD2LAN7PH3ZkAAAAASQZrASeEKUmUwUsN//qeEAAEnAAAAEAGe/2pCvwAD2LAN7PH3ZkEAAAASQZriSeEOiZTBRMN//qeEAAEnAAAAEAGfAWpCvwAD2LAN7PH3ZkEAAAASQZsESeEPJlMFPDf//qeEAAEnAAAAEAGfI2pCvwAD2LAN7PH3ZkEAAAASQZsmSeEPJlMFPDf//qeEAAEnAAAAEAGfRWpCvwAD2LAN7PH3ZkEAAAASQZtISeEPJlMFPDf//qeEAAEnAAAAEAGfZ2pCvwAD2LAN7PH3ZkAAAAASQZtqSeEPJlMFPDf//qeEAAEnAAAAEAGfiWpCvwAD2LAN7PH3ZkEAAAASQZuMSeEPJlMFPDf//qeEAAEnAAAAEAGfq2pCvwAD2LAN7PH3ZkAAAAASQZuuSeEPJlMFPDf//qeEAAEnAAAAEAGfzWpCvwAD2LAN7PH3ZkEAAAASQZvQSeEPJlMFPDf//qeEAAEnAAAAEAGf72pCvwAD2LAN7PH3ZkAAAAASQZvySeEPJlMFPDf//qeEAAEnAAAAEAGeEWpCvwAD2LAN7PH3ZkEAAAASQZoUSeEPJlMFPDf//qeEAAEnAAAAEAGeM2pCvwAD2LAN7PH3ZkAAAAASQZo2SeEPJlMFPDf//qeEAAEnAAAAEAGeVWpCvwAD2LAN7PH3ZkAAAAASQZpYSeEPJlMFPDf//qeEAAEnAAAAEAGed2pCvwAD2LAN7PH3ZkEAAAASQZp6SeEPJlMFPDf//qeEAAEnAAAAEAGemWpCvwAD2LAN7PH3ZkEAAAASQZqcSeEPJlMFPDf//qeEAAEnAAAAEAGeu2pCvwAD2LAN7PH3ZkEAAAASQZq+SeEPJlMFPDf//qeEAAEnAAAAEAGe3WpCvwAD2LAN7PH3ZkAAAAASQZrASeEPJlMFPDf//qeEAAEnAAAAEAGe/2pCvwAD2LAN7PH3ZkEAAAASQZriSeEPJlMFPDf//qeEAAEnAAAAEAGfAWpCvwAD2LAN7PH3ZkEAAAAZQZsFSeEPJlMCGf/+nhAAE1EOPetsHOz2gAAAABJBnyNFETwr/wAD+MxewsF+xcEAAAAOAZ9EakK/AAP4zWPOC28AAAAaQZtJS6hCEFokRggoB/IB/YeAIV/+OEAAEXEAAAAjQZ9nRREsL/8CAdzqS9szCrmA6Bq1qFwJQBlok8LfMpM0nDEAAAAQAZ+GdEK/AAPuob2XVfxbQAAAACYBn4hqQr8Cr2PtQcTdqsNJJuWqhgcstbvNKiCaLJtAtT5ItKuxEAAADDhtb292AAAAbG12aGQAAAAAAAAAAAAAAAAAAAPoAAAfkAABAAABAAAAAAAAAAAAAAAAAQAAAAAAAAAAAAAAAAAAAAEAAAAAAAAAAAAAAAAAAEAAAAAAAAAAAAAAAAAAAAAAAAAAAAAAAAAAAAAAAAACAAALYnRyYWsAAABcdGtoZAAAAAMAAAAAAAAAAAAAAAEAAAAAAAAfkAAAAAAAAAAAAAAAAAAAAAAAAQAAAAAAAAAAAAAAAAAAAAEAAAAAAAAAAAAAAAAAAEAAAAABEAAAARAAAAAAACRlZHRzAAAAHGVsc3QAAAAAAAAAAQAAH5AAAAQAAAEAAAAACtptZGlhAAAAIG1kaGQAAAAAAAAAAAAAAAAAADIAAAGUAFXEAAAAAAAtaGRscgAAAAAAAAAAdmlkZQAAAAAAAAAAAAAAAFZpZGVvSGFuZGxlcgAAAAqFbWluZgAAABR2bWhkAAAAAQAAAAAAAAAAAAAAJGRpbmYAAAAcZHJlZgAAAAAAAAABAAAADHVybCAAAAABAAAKRXN0YmwAAACVc3RzZAAAAAAAAAABAAAAhWF2YzEAAAAAAAAAAQAAAAAAAAAAAAAAAAAAAAABEAEQAEgAAABIAAAAAAAAAAEAAAAAAAAAAAAAAAAAAAAAAAAAAAAAAAAAAAAAAAAAAAAY//8AAAAvYXZjQwH0AA3/4QAXZ/QADZGbKCIR0IAAAAMAgAAAGQeKFMsBAAVo6+PESAAAABhzdHRzAAAAAAAAAAEAAADKAAACAAAAABRzdHNzAAAAAAAAAAEAAAABAAAGEGN0dHMAAAAAAAAAwAAAAAMAAAQAAAAAAQAACgAAAAABAAAEAAAAAAEAAAAAAAAAAQAAAgAAAAABAAAEAAAAAAEAAAYAAAAAAQAAAgAAAAACAAAEAAAAAAEAAAoAAAAAAQAABAAAAAABAAAAAAAAAAEAAAIAAAAAAQAACAAAAAACAAACAAAAAAEAAAYAAAAAAQAAAgAAAAABAAAGAAAAAAEAAAIAAAAAAQAABgAAAAABAAACAAAAAAEAAAYAAAAAAQAAAgAAAAABAAAGAAAAAAEAAAIAAAAAAQAABgAAAAABAAACAAAAAAEAAAYAAAAAAQAAAgAAAAABAAAGAAAAAAEAAAIAAAAAAQAABgAAAAABAAACAAAAAAEAAAYAAAAAAQAAAgAAAAABAAAGAAAAAAEAAAIAAAAAAQAABgAAAAABAAACAAAAAAEAAAYAAAAAAQAAAgAAAAABAAAGAAAAAAEAAAIAAAAAAQAABgAAAAABAAACAAAAAAEAAAYAAAAAAQAAAgAAAAABAAAGAAAAAAEAAAIAAAAAAQAACAAAAAACAAACAAAAAAEAAAgAAAAAAgAAAgAAAAABAAAGAAAAAAEAAAIAAAAAAQAABgAAAAABAAACAAAAAAEAAAoAAAAAAQAABAAAAAABAAAAAAAAAAEAAAIAAAAAAQAACgAAAAABAAAEAAAAAAEAAAAAAAAAAQAAAgAAAAABAAAGAAAAAAEAAAIAAAAAAQAABgAAAAABAAACAAAAAAEAAAYAAAAAAQAAAgAAAAABAAAGAAAAAAEAAAIAAAAAAQAABgAAAAABAAACAAAAAAEAAAYAAAAAAQAAAgAAAAABAAAGAAAAAAEAAAIAAAAAAQAABgAAAAABAAACAAAAAAEAAAYAAAAAAQAAAgAAAAABAAAGAAAAAAEAAAIAAAAAAQAACgAAAAABAAAEAAAAAAEAAAAAAAAAAQAAAgAAAAABAAAKAAAAAAEAAAQAAAAAAQAAAAAAAAABAAACAAAAAAEAAAoAAAAAAQAABAAAAAABAAAAAAAAAAEAAAIAAAAAAQAACAAAAAACAAACAAAAAAEAAAgAAAAAAgAAAgAAAAABAAAGAAAAAAEAAAIAAAAAAQAABgAAAAABAAACAAAAAAEAAAoAAAAAAQAABAAAAAABAAAAAAAAAAEAAAIAAAAAAQAACgAAAAABAAAEAAAAAAEAAAAAAAAAAQAAAgAAAAABAAAKAAAAAAEAAAQAAAAAAQAAAAAAAAABAAACAAAAAAEAAAoAAAAAAQAABAAAAAABAAAAAAAAAAEAAAIAAAAAAQAACgAAAAABAAAEAAAAAAEAAAAAAAAAAQAAAgAAAAABAAAKAAAAAAEAAAQAAAAAAQAAAAAAAAABAAACAAAAAAEAAAoAAAAAAQAABAAAAAABAAAAAAAAAAEAAAIAAAAAAQAACgAAAAABAAAEAAAAAAEAAAAAAAAAAQAAAgAAAAABAAAKAAAAAAEAAAQAAAAAAQAAAAAAAAABAAACAAAAAAEAAAoAAAAAAQAABAAAAAABAAAAAAAAAAEAAAIAAAAAAQAABAAAAAABAAAIAAAAAAIAAAIAAAAAAQAABgAAAAABAAACAAAAAAEAAAYAAAAAAQAAAgAAAAABAAAGAAAAAAEAAAIAAAAAAQAABgAAAAABAAACAAAAAAEAAAYAAAAAAQAAAgAAAAABAAAGAAAAAAEAAAIAAAAAAQAABgAAAAABAAACAAAAAAEAAAYAAAAAAQAAAgAAAAABAAAGAAAAAAEAAAIAAAAAAQAABgAAAAABAAACAAAAAAEAAAYAAAAAAQAAAgAAAAABAAAGAAAAAAEAAAIAAAAAAQAABgAAAAABAAACAAAAAAEAAAYAAAAAAQAAAgAAAAABAAAGAAAAAAEAAAIAAAAAAQAABgAAAAABAAACAAAAAAEAAAYAAAAAAQAAAgAAAAABAAAGAAAAAAEAAAIAAAAAAQAABgAAAAABAAACAAAAAAEAAAgAAAAAAgAAAgAAAAABAAAKAAAAAAEAAAQAAAAAAQAAAAAAAAABAAACAAAAABxzdHNjAAAAAAAAAAEAAAABAAAAygAAAAEAAAM8c3RzegAAAAAAAAAAAAAAygAABVEAAAAYAAAAHAAAACQAAAAYAAAAFAAAABQAAAAeAAAAIQAAABQAAAAdAAAAHQAAABUAAAAQAAAAFAAAABQAAAAdAAAAEwAAABQAAAAXAAAAFAAAABYAAAAUAAAAFgAAABQAAAAWAAAAFAAAABYAAAAUAAAAFgAAABQAAAAWAAAAFAAAABYAAAAUAAAAFgAAABQAAAAWAAAAFAAAABYAAAAUAAAAFgAAABQAAAAWAAAAFAAAABYAAAAUAAAAFgAAABQAAAAWAAAAFAAAABYAAAAUAAAAHAAAABYAAAASAAAAIAAAABQAAAAUAAAAFwAAABQAAAAXAAAAFAAAAB8AAAAUAAAAFAAAABMAAAArAAAAFAAAABMAAAATAAAAFwAAABQAAAAWAAAAFAAAABYAAAAUAAAAFgAAABQAAAAWAAAAFAAAABYAAAAUAAAAFgAAABQAAAAWAAAAFAAAABcAAAAUAAAAFwAAABQAAAAfAAAAFAAAABMAAAAUAAAAFwAAABAAAAAUAAAAFAAAABYAAAAQAAAAFAAAABQAAAAeAAAAEwAAABEAAAAdAAAAEwAAABMAAAAYAAAAFAAAABcAAAAUAAAAIQAAABQAAAAUAAAAEwAAABcAAAAQAAAAFAAAABQAAAAXAAAAEAAAABQAAAAUAAAAFwAAABAAAAAUAAAAFAAAABcAAAAQAAAAFAAAABQAAAAXAAAAEAAAABQAAAAUAAAAFwAAABAAAAAUAAAAFAAAABcAAAAQAAAAFAAAABQAAAAWAAAAEAAAABQAAAAUAAAAFgAAABAAAAAUAAAAFAAAAB4AAAAcAAAAEwAAABMAAAAWAAAAFAAAABYAAAAUAAAAFgAAABQAAAAWAAAAFAAAABYAAAAUAAAAFgAAABQAAAAWAAAAFAAAABYAAAAUAAAAFgAAABQAAAAWAAAAFAAAABYAAAAUAAAAFgAAABQAAAAWAAAAFAAAABYAAAAUAAAAFgAAABQAAAAWAAAAFAAAABYAAAAUAAAAFgAAABQAAAAWAAAAFAAAAB0AAAAWAAAAEgAAAB4AAAAnAAAAFAAAACoAAAAUc3RjbwAAAAAAAAABAAAAMAAAAGJ1ZHRhAAAAWm1ldGEAAAAAAAAAIWhkbHIAAAAAAAAAAG1kaXJhcHBsAAAAAAAAAAAAAAAALWlsc3QAAAAlqXRvbwAAAB1kYXRhAAAAAQAAAABMYXZmNTcuODMuMTAw\" type=\"video/mp4\" />\n",
              "             </video>"
            ],
            "text/plain": [
              "<IPython.core.display.HTML object>"
            ]
          },
          "metadata": {
            "tags": []
          },
          "execution_count": 66
        }
      ]
    },
    {
      "cell_type": "markdown",
      "metadata": {
        "id": "AQ_6qxHMdLCF",
        "colab_type": "text"
      },
      "source": [
        "***"
      ]
    }
  ]
}